{
 "cells": [
  {
   "cell_type": "code",
   "execution_count": 1,
   "id": "fda7efe7",
   "metadata": {
    "_cell_guid": "b1076dfc-b9ad-4769-8c92-a6c4dae69d19",
    "_uuid": "8f2839f25d086af736a60e9eeb907d3b93b6e0e5",
    "execution": {
     "iopub.execute_input": "2022-12-26T11:22:30.902718Z",
     "iopub.status.busy": "2022-12-26T11:22:30.902227Z",
     "iopub.status.idle": "2022-12-26T11:22:30.915273Z",
     "shell.execute_reply": "2022-12-26T11:22:30.914066Z"
    },
    "papermill": {
     "duration": 0.021431,
     "end_time": "2022-12-26T11:22:30.917846",
     "exception": false,
     "start_time": "2022-12-26T11:22:30.896415",
     "status": "completed"
    },
    "tags": []
   },
   "outputs": [
    {
     "name": "stdout",
     "output_type": "stream",
     "text": [
      "/kaggle/input/learning-equality-curriculum-recommendations/sample_submission.csv\n",
      "/kaggle/input/learning-equality-curriculum-recommendations/topics.csv\n",
      "/kaggle/input/learning-equality-curriculum-recommendations/correlations.csv\n",
      "/kaggle/input/learning-equality-curriculum-recommendations/content.csv\n"
     ]
    }
   ],
   "source": [
    "# This Python 3 environment comes with many helpful analytics libraries installed\n",
    "# It is defined by the kaggle/python Docker image: https://github.com/kaggle/docker-python\n",
    "# For example, here's several helpful packages to load\n",
    "\n",
    "import numpy as np # linear algebra\n",
    "import pandas as pd # data processing, CSV file I/O (e.g. pd.read_csv)\n",
    "\n",
    "# Input data files are available in the read-only \"../input/\" directory\n",
    "# For example, running this (by clicking run or pressing Shift+Enter) will list all files under the input directory\n",
    "\n",
    "import os\n",
    "for dirname, _, filenames in os.walk('/kaggle/input'):\n",
    "    for filename in filenames:\n",
    "        print(os.path.join(dirname, filename))\n",
    "\n",
    "# You can write up to 20GB to the current directory (/kaggle/working/) that gets preserved as output when you create a version using \"Save & Run All\" \n",
    "# You can also write temporary files to /kaggle/temp/, but they won't be saved outside of the current session"
   ]
  },
  {
   "cell_type": "code",
   "execution_count": 2,
   "id": "f716ad14",
   "metadata": {
    "execution": {
     "iopub.execute_input": "2022-12-26T11:22:30.926141Z",
     "iopub.status.busy": "2022-12-26T11:22:30.925378Z",
     "iopub.status.idle": "2022-12-26T11:22:53.646624Z",
     "shell.execute_reply": "2022-12-26T11:22:53.645354Z"
    },
    "papermill": {
     "duration": 22.728577,
     "end_time": "2022-12-26T11:22:53.649733",
     "exception": false,
     "start_time": "2022-12-26T11:22:30.921156",
     "status": "completed"
    },
    "tags": []
   },
   "outputs": [],
   "source": [
    "topics_df = pd.read_csv(\"/kaggle/input/learning-equality-curriculum-recommendations/topics.csv\")\n",
    "correlations_df = pd.read_csv(\"/kaggle/input/learning-equality-curriculum-recommendations/correlations.csv\")\n",
    "content_df = pd.read_csv(\"/kaggle/input/learning-equality-curriculum-recommendations/content.csv\")"
   ]
  },
  {
   "cell_type": "markdown",
   "id": "6098f46d",
   "metadata": {
    "papermill": {
     "duration": 0.002829,
     "end_time": "2022-12-26T11:22:53.655779",
     "exception": false,
     "start_time": "2022-12-26T11:22:53.652950",
     "status": "completed"
    },
    "tags": []
   },
   "source": [
    "# topics_df\n",
    "columns : \n",
    "+ id - unique_ids (string)\n",
    "+ title - name of the topic (string)\n",
    "+ description - description (55% data is null) (string)\n",
    "+ channel - channel (string)\n",
    "+ category - 'source', 'aligned', 'supplemental' (categorical)\n",
    "+ level - 0, 1, 2, 3, 4, 5, 6, 7,  8,  9, 10 (0-10) (ordinal)\n",
    "+ language - 'bg', 'en', 'pt', 'gu', 'my', 'zh', 'ar', 'te', 'es', 'fr', 'sw', 'mr', 'hi', 'bn', 'fil', 'ru', 'it', 'or', 'pnb', 'km', 'as', 'kn', 'ur', 'pl', 'ta', 'swa', 'tr', 'mul' (28 unique value) (categorical)\n",
    "+ parent - 17.5k values (string)\n",
    "+ has_content - true (79.9%) , false (20.1%) (Binary)\n"
   ]
  },
  {
   "cell_type": "code",
   "execution_count": 3,
   "id": "412027ec",
   "metadata": {
    "execution": {
     "iopub.execute_input": "2022-12-26T11:22:53.663617Z",
     "iopub.status.busy": "2022-12-26T11:22:53.662864Z",
     "iopub.status.idle": "2022-12-26T11:22:53.691752Z",
     "shell.execute_reply": "2022-12-26T11:22:53.690578Z"
    },
    "papermill": {
     "duration": 0.035671,
     "end_time": "2022-12-26T11:22:53.694378",
     "exception": false,
     "start_time": "2022-12-26T11:22:53.658707",
     "status": "completed"
    },
    "tags": []
   },
   "outputs": [
    {
     "data": {
      "text/html": [
       "<div>\n",
       "<style scoped>\n",
       "    .dataframe tbody tr th:only-of-type {\n",
       "        vertical-align: middle;\n",
       "    }\n",
       "\n",
       "    .dataframe tbody tr th {\n",
       "        vertical-align: top;\n",
       "    }\n",
       "\n",
       "    .dataframe thead th {\n",
       "        text-align: right;\n",
       "    }\n",
       "</style>\n",
       "<table border=\"1\" class=\"dataframe\">\n",
       "  <thead>\n",
       "    <tr style=\"text-align: right;\">\n",
       "      <th></th>\n",
       "      <th>id</th>\n",
       "      <th>title</th>\n",
       "      <th>description</th>\n",
       "      <th>channel</th>\n",
       "      <th>category</th>\n",
       "      <th>level</th>\n",
       "      <th>language</th>\n",
       "      <th>parent</th>\n",
       "      <th>has_content</th>\n",
       "    </tr>\n",
       "  </thead>\n",
       "  <tbody>\n",
       "    <tr>\n",
       "      <th>0</th>\n",
       "      <td>t_00004da3a1b2</td>\n",
       "      <td>Откриването на резисторите</td>\n",
       "      <td>Изследване на материали, които предизвикват на...</td>\n",
       "      <td>000cf7</td>\n",
       "      <td>source</td>\n",
       "      <td>4</td>\n",
       "      <td>bg</td>\n",
       "      <td>t_16e29365b50d</td>\n",
       "      <td>True</td>\n",
       "    </tr>\n",
       "    <tr>\n",
       "      <th>1</th>\n",
       "      <td>t_000095e03056</td>\n",
       "      <td>Unit 3.3 Enlargements and Similarities</td>\n",
       "      <td>NaN</td>\n",
       "      <td>b3f329</td>\n",
       "      <td>aligned</td>\n",
       "      <td>2</td>\n",
       "      <td>en</td>\n",
       "      <td>t_aa32fb6252dc</td>\n",
       "      <td>False</td>\n",
       "    </tr>\n",
       "  </tbody>\n",
       "</table>\n",
       "</div>"
      ],
      "text/plain": [
       "               id                                   title  \\\n",
       "0  t_00004da3a1b2              Откриването на резисторите   \n",
       "1  t_000095e03056  Unit 3.3 Enlargements and Similarities   \n",
       "\n",
       "                                         description channel category  level  \\\n",
       "0  Изследване на материали, които предизвикват на...  000cf7   source      4   \n",
       "1                                                NaN  b3f329  aligned      2   \n",
       "\n",
       "  language          parent  has_content  \n",
       "0       bg  t_16e29365b50d         True  \n",
       "1       en  t_aa32fb6252dc        False  "
      ]
     },
     "execution_count": 3,
     "metadata": {},
     "output_type": "execute_result"
    }
   ],
   "source": [
    "topics_df.head(2)"
   ]
  },
  {
   "cell_type": "markdown",
   "id": "454b2163",
   "metadata": {
    "papermill": {
     "duration": 0.003096,
     "end_time": "2022-12-26T11:22:53.700883",
     "exception": false,
     "start_time": "2022-12-26T11:22:53.697787",
     "status": "completed"
    },
    "tags": []
   },
   "source": [
    "# correlation_df\n",
    "Relates the topics_df and content_df\n",
    "+ topic_id - unique (string)\n",
    "+ content_ids - list of contents related to the topic (list of strings)"
   ]
  },
  {
   "cell_type": "code",
   "execution_count": 4,
   "id": "620345f8",
   "metadata": {
    "execution": {
     "iopub.execute_input": "2022-12-26T11:22:53.709088Z",
     "iopub.status.busy": "2022-12-26T11:22:53.708695Z",
     "iopub.status.idle": "2022-12-26T11:22:53.719482Z",
     "shell.execute_reply": "2022-12-26T11:22:53.718254Z"
    },
    "papermill": {
     "duration": 0.017821,
     "end_time": "2022-12-26T11:22:53.721956",
     "exception": false,
     "start_time": "2022-12-26T11:22:53.704135",
     "status": "completed"
    },
    "tags": []
   },
   "outputs": [
    {
     "data": {
      "text/html": [
       "<div>\n",
       "<style scoped>\n",
       "    .dataframe tbody tr th:only-of-type {\n",
       "        vertical-align: middle;\n",
       "    }\n",
       "\n",
       "    .dataframe tbody tr th {\n",
       "        vertical-align: top;\n",
       "    }\n",
       "\n",
       "    .dataframe thead th {\n",
       "        text-align: right;\n",
       "    }\n",
       "</style>\n",
       "<table border=\"1\" class=\"dataframe\">\n",
       "  <thead>\n",
       "    <tr style=\"text-align: right;\">\n",
       "      <th></th>\n",
       "      <th>topic_id</th>\n",
       "      <th>content_ids</th>\n",
       "    </tr>\n",
       "  </thead>\n",
       "  <tbody>\n",
       "    <tr>\n",
       "      <th>0</th>\n",
       "      <td>t_00004da3a1b2</td>\n",
       "      <td>c_1108dd0c7a5d c_376c5a8eb028 c_5bc0e1e2cba0 c...</td>\n",
       "    </tr>\n",
       "    <tr>\n",
       "      <th>1</th>\n",
       "      <td>t_00068291e9a4</td>\n",
       "      <td>c_639ea2ef9c95 c_89ce9367be10 c_ac1672cdcd2c c...</td>\n",
       "    </tr>\n",
       "  </tbody>\n",
       "</table>\n",
       "</div>"
      ],
      "text/plain": [
       "         topic_id                                        content_ids\n",
       "0  t_00004da3a1b2  c_1108dd0c7a5d c_376c5a8eb028 c_5bc0e1e2cba0 c...\n",
       "1  t_00068291e9a4  c_639ea2ef9c95 c_89ce9367be10 c_ac1672cdcd2c c..."
      ]
     },
     "execution_count": 4,
     "metadata": {},
     "output_type": "execute_result"
    }
   ],
   "source": [
    "correlations_df.head(2)"
   ]
  },
  {
   "cell_type": "markdown",
   "id": "35e944ce",
   "metadata": {
    "papermill": {
     "duration": 0.003183,
     "end_time": "2022-12-26T11:22:53.728664",
     "exception": false,
     "start_time": "2022-12-26T11:22:53.725481",
     "status": "completed"
    },
    "tags": []
   },
   "source": [
    "# content_df\n",
    "Columns :\n",
    "+ id -  unique_ids (string)\n",
    "+ title -  name of the content (string)\n",
    "+ description - description (42% data is null) (string)\n",
    "+ kind - 'video', 'document', 'html5', 'exercise', 'audio' (categorical)\n",
    "+ text - related text (52% null)\n",
    "+ language - 'es', 'it', 'pt', 'en', 'mr', 'bg', 'gu', 'sw', 'hi', 'ar', 'bn','as', 'zh', 'fr', 'km', 'pl', 'ta', 'fil', 'or', 'ru', 'kn', 'swa', 'my', 'pnb', 'tr', 'te', 'ur' (categorical) (27 unique value)\n",
    "+ copyright_holder (53% null)\n",
    "+ license - nan, 'CC BY-NC-ND','CC BY-NC-SA', 'Public Domain', 'CC BY', 'CC BY-SA', 'CC BY-NC', 'CC BY-ND'(52% null)"
   ]
  },
  {
   "cell_type": "code",
   "execution_count": 5,
   "id": "1806c267",
   "metadata": {
    "execution": {
     "iopub.execute_input": "2022-12-26T11:22:53.737627Z",
     "iopub.status.busy": "2022-12-26T11:22:53.736604Z",
     "iopub.status.idle": "2022-12-26T11:22:53.749975Z",
     "shell.execute_reply": "2022-12-26T11:22:53.749007Z"
    },
    "papermill": {
     "duration": 0.020198,
     "end_time": "2022-12-26T11:22:53.752160",
     "exception": false,
     "start_time": "2022-12-26T11:22:53.731962",
     "status": "completed"
    },
    "tags": []
   },
   "outputs": [
    {
     "data": {
      "text/html": [
       "<div>\n",
       "<style scoped>\n",
       "    .dataframe tbody tr th:only-of-type {\n",
       "        vertical-align: middle;\n",
       "    }\n",
       "\n",
       "    .dataframe tbody tr th {\n",
       "        vertical-align: top;\n",
       "    }\n",
       "\n",
       "    .dataframe thead th {\n",
       "        text-align: right;\n",
       "    }\n",
       "</style>\n",
       "<table border=\"1\" class=\"dataframe\">\n",
       "  <thead>\n",
       "    <tr style=\"text-align: right;\">\n",
       "      <th></th>\n",
       "      <th>id</th>\n",
       "      <th>title</th>\n",
       "      <th>description</th>\n",
       "      <th>kind</th>\n",
       "      <th>text</th>\n",
       "      <th>language</th>\n",
       "      <th>copyright_holder</th>\n",
       "      <th>license</th>\n",
       "    </tr>\n",
       "  </thead>\n",
       "  <tbody>\n",
       "    <tr>\n",
       "      <th>0</th>\n",
       "      <td>c_00002381196d</td>\n",
       "      <td>Sumar números de varios dígitos: 48,029+233,930</td>\n",
       "      <td>Suma 48,029+233,930 mediante el algoritmo está...</td>\n",
       "      <td>video</td>\n",
       "      <td>NaN</td>\n",
       "      <td>es</td>\n",
       "      <td>NaN</td>\n",
       "      <td>NaN</td>\n",
       "    </tr>\n",
       "    <tr>\n",
       "      <th>1</th>\n",
       "      <td>c_000087304a9e</td>\n",
       "      <td>Trovare i fattori di un numero</td>\n",
       "      <td>Sal trova i fattori di 120.\\n\\n</td>\n",
       "      <td>video</td>\n",
       "      <td>NaN</td>\n",
       "      <td>it</td>\n",
       "      <td>NaN</td>\n",
       "      <td>NaN</td>\n",
       "    </tr>\n",
       "  </tbody>\n",
       "</table>\n",
       "</div>"
      ],
      "text/plain": [
       "               id                                             title  \\\n",
       "0  c_00002381196d  Sumar números de varios dígitos: 48,029+233,930    \n",
       "1  c_000087304a9e                    Trovare i fattori di un numero   \n",
       "\n",
       "                                         description   kind text language  \\\n",
       "0  Suma 48,029+233,930 mediante el algoritmo está...  video  NaN       es   \n",
       "1                    Sal trova i fattori di 120.\\n\\n  video  NaN       it   \n",
       "\n",
       "  copyright_holder license  \n",
       "0              NaN     NaN  \n",
       "1              NaN     NaN  "
      ]
     },
     "execution_count": 5,
     "metadata": {},
     "output_type": "execute_result"
    }
   ],
   "source": [
    "content_df.head(2)"
   ]
  },
  {
   "cell_type": "code",
   "execution_count": 6,
   "id": "e9344c74",
   "metadata": {
    "execution": {
     "iopub.execute_input": "2022-12-26T11:22:53.761187Z",
     "iopub.status.busy": "2022-12-26T11:22:53.760824Z",
     "iopub.status.idle": "2022-12-26T11:22:53.784109Z",
     "shell.execute_reply": "2022-12-26T11:22:53.782941Z"
    },
    "papermill": {
     "duration": 0.031191,
     "end_time": "2022-12-26T11:22:53.787058",
     "exception": false,
     "start_time": "2022-12-26T11:22:53.755867",
     "status": "completed"
    },
    "tags": []
   },
   "outputs": [],
   "source": [
    "# let's clean the content_df first \n",
    "content_df = content_df.drop(columns=['description' , 'text' , 'copyright_holder' , 'license' , 'title'])\n",
    "topics_df = topics_df.drop(columns=['title' , 'description'])"
   ]
  },
  {
   "cell_type": "markdown",
   "id": "bd61c37b",
   "metadata": {
    "papermill": {
     "duration": 0.00331,
     "end_time": "2022-12-26T11:22:53.794081",
     "exception": false,
     "start_time": "2022-12-26T11:22:53.790771",
     "status": "completed"
    },
    "tags": []
   },
   "source": [
    "## Preoprocessing\n",
    "content_df \n",
    "+ OneHotEncoder - Kind , language\n",
    "\n",
    "topics_df\n",
    "+ OneHotEncoder - category , language\n",
    "+ LabelEncoder - has_content\n",
    "+ OrdinalEncoder - level"
   ]
  }
 ],
 "metadata": {
  "kernelspec": {
   "display_name": "Python 3",
   "language": "python",
   "name": "python3"
  },
  "language_info": {
   "codemirror_mode": {
    "name": "ipython",
    "version": 3
   },
   "file_extension": ".py",
   "mimetype": "text/x-python",
   "name": "python",
   "nbconvert_exporter": "python",
   "pygments_lexer": "ipython3",
   "version": "3.7.12"
  },
  "papermill": {
   "default_parameters": {},
   "duration": 32.000179,
   "end_time": "2022-12-26T11:22:54.619355",
   "environment_variables": {},
   "exception": null,
   "input_path": "__notebook__.ipynb",
   "output_path": "__notebook__.ipynb",
   "parameters": {},
   "start_time": "2022-12-26T11:22:22.619176",
   "version": "2.3.4"
  }
 },
 "nbformat": 4,
 "nbformat_minor": 5
}
