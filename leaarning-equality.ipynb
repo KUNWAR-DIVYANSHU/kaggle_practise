{
 "cells": [
  {
   "cell_type": "code",
   "execution_count": 1,
   "id": "37eb50cc",
   "metadata": {
    "_cell_guid": "b1076dfc-b9ad-4769-8c92-a6c4dae69d19",
    "_uuid": "8f2839f25d086af736a60e9eeb907d3b93b6e0e5",
    "execution": {
     "iopub.execute_input": "2022-12-26T10:58:06.713723Z",
     "iopub.status.busy": "2022-12-26T10:58:06.713262Z",
     "iopub.status.idle": "2022-12-26T10:58:06.726064Z",
     "shell.execute_reply": "2022-12-26T10:58:06.725112Z"
    },
    "papermill": {
     "duration": 0.021309,
     "end_time": "2022-12-26T10:58:06.728748",
     "exception": false,
     "start_time": "2022-12-26T10:58:06.707439",
     "status": "completed"
    },
    "tags": []
   },
   "outputs": [
    {
     "name": "stdout",
     "output_type": "stream",
     "text": [
      "/kaggle/input/learning-equality-curriculum-recommendations/sample_submission.csv\n",
      "/kaggle/input/learning-equality-curriculum-recommendations/topics.csv\n",
      "/kaggle/input/learning-equality-curriculum-recommendations/correlations.csv\n",
      "/kaggle/input/learning-equality-curriculum-recommendations/content.csv\n"
     ]
    }
   ],
   "source": [
    "# This Python 3 environment comes with many helpful analytics libraries installed\n",
    "# It is defined by the kaggle/python Docker image: https://github.com/kaggle/docker-python\n",
    "# For example, here's several helpful packages to load\n",
    "\n",
    "import numpy as np # linear algebra\n",
    "import pandas as pd # data processing, CSV file I/O (e.g. pd.read_csv)\n",
    "\n",
    "# Input data files are available in the read-only \"../input/\" directory\n",
    "# For example, running this (by clicking run or pressing Shift+Enter) will list all files under the input directory\n",
    "\n",
    "import os\n",
    "for dirname, _, filenames in os.walk('/kaggle/input'):\n",
    "    for filename in filenames:\n",
    "        print(os.path.join(dirname, filename))\n",
    "\n",
    "# You can write up to 20GB to the current directory (/kaggle/working/) that gets preserved as output when you create a version using \"Save & Run All\" \n",
    "# You can also write temporary files to /kaggle/temp/, but they won't be saved outside of the current session"
   ]
  },
  {
   "cell_type": "code",
   "execution_count": 2,
   "id": "be075002",
   "metadata": {
    "execution": {
     "iopub.execute_input": "2022-12-26T10:58:06.736620Z",
     "iopub.status.busy": "2022-12-26T10:58:06.736219Z",
     "iopub.status.idle": "2022-12-26T10:58:31.450625Z",
     "shell.execute_reply": "2022-12-26T10:58:31.449417Z"
    },
    "papermill": {
     "duration": 24.721332,
     "end_time": "2022-12-26T10:58:31.453434",
     "exception": false,
     "start_time": "2022-12-26T10:58:06.732102",
     "status": "completed"
    },
    "tags": []
   },
   "outputs": [],
   "source": [
    "topics_df = pd.read_csv(\"/kaggle/input/learning-equality-curriculum-recommendations/topics.csv\")\n",
    "correlations_df = pd.read_csv(\"/kaggle/input/learning-equality-curriculum-recommendations/correlations.csv\")\n",
    "content_df = pd.read_csv(\"/kaggle/input/learning-equality-curriculum-recommendations/content.csv\")"
   ]
  },
  {
   "cell_type": "markdown",
   "id": "f0695514",
   "metadata": {
    "papermill": {
     "duration": 0.002828,
     "end_time": "2022-12-26T10:58:31.459497",
     "exception": false,
     "start_time": "2022-12-26T10:58:31.456669",
     "status": "completed"
    },
    "tags": []
   },
   "source": [
    "# Topics_df\n",
    "columns : \n",
    "+ id - unique_ids (string)\n",
    "+ title - name of the videos (string)\n",
    "+ description - description (55% data is null) (string)\n",
    "+ channel - channel (string)\n",
    "+ category - 'source', 'aligned', 'supplemental' (categorical)\n",
    "+ level - 0, 1, 2, 3, 4, 5, 6, 7,  8,  9, 10 (0-10) (ordinal)\n",
    "+ language - 'bg', 'en', 'pt', 'gu', 'my', 'zh', 'ar', 'te', 'es', 'fr', 'sw', 'mr', 'hi', 'bn', 'fil', 'ru', 'it', 'or', 'pnb', 'km', 'as', 'kn', 'ur', 'pl', 'ta', 'swa', 'tr', 'mul' (28 unique value) (categorical)\n",
    "+ parent - 17.5k values (string)\n",
    "+ has_content - true (79.9%) , false (20.1%) (Binary)\n"
   ]
  },
  {
   "cell_type": "code",
   "execution_count": 3,
   "id": "81ec66e0",
   "metadata": {
    "execution": {
     "iopub.execute_input": "2022-12-26T10:58:31.467181Z",
     "iopub.status.busy": "2022-12-26T10:58:31.466773Z",
     "iopub.status.idle": "2022-12-26T10:58:31.498125Z",
     "shell.execute_reply": "2022-12-26T10:58:31.496771Z"
    },
    "papermill": {
     "duration": 0.038739,
     "end_time": "2022-12-26T10:58:31.501230",
     "exception": false,
     "start_time": "2022-12-26T10:58:31.462491",
     "status": "completed"
    },
    "tags": []
   },
   "outputs": [
    {
     "data": {
      "text/html": [
       "<div>\n",
       "<style scoped>\n",
       "    .dataframe tbody tr th:only-of-type {\n",
       "        vertical-align: middle;\n",
       "    }\n",
       "\n",
       "    .dataframe tbody tr th {\n",
       "        vertical-align: top;\n",
       "    }\n",
       "\n",
       "    .dataframe thead th {\n",
       "        text-align: right;\n",
       "    }\n",
       "</style>\n",
       "<table border=\"1\" class=\"dataframe\">\n",
       "  <thead>\n",
       "    <tr style=\"text-align: right;\">\n",
       "      <th></th>\n",
       "      <th>id</th>\n",
       "      <th>title</th>\n",
       "      <th>description</th>\n",
       "      <th>channel</th>\n",
       "      <th>category</th>\n",
       "      <th>level</th>\n",
       "      <th>language</th>\n",
       "      <th>parent</th>\n",
       "      <th>has_content</th>\n",
       "    </tr>\n",
       "  </thead>\n",
       "  <tbody>\n",
       "    <tr>\n",
       "      <th>0</th>\n",
       "      <td>t_00004da3a1b2</td>\n",
       "      <td>Откриването на резисторите</td>\n",
       "      <td>Изследване на материали, които предизвикват на...</td>\n",
       "      <td>000cf7</td>\n",
       "      <td>source</td>\n",
       "      <td>4</td>\n",
       "      <td>bg</td>\n",
       "      <td>t_16e29365b50d</td>\n",
       "      <td>True</td>\n",
       "    </tr>\n",
       "    <tr>\n",
       "      <th>1</th>\n",
       "      <td>t_000095e03056</td>\n",
       "      <td>Unit 3.3 Enlargements and Similarities</td>\n",
       "      <td>NaN</td>\n",
       "      <td>b3f329</td>\n",
       "      <td>aligned</td>\n",
       "      <td>2</td>\n",
       "      <td>en</td>\n",
       "      <td>t_aa32fb6252dc</td>\n",
       "      <td>False</td>\n",
       "    </tr>\n",
       "  </tbody>\n",
       "</table>\n",
       "</div>"
      ],
      "text/plain": [
       "               id                                   title  \\\n",
       "0  t_00004da3a1b2              Откриването на резисторите   \n",
       "1  t_000095e03056  Unit 3.3 Enlargements and Similarities   \n",
       "\n",
       "                                         description channel category  level  \\\n",
       "0  Изследване на материали, които предизвикват на...  000cf7   source      4   \n",
       "1                                                NaN  b3f329  aligned      2   \n",
       "\n",
       "  language          parent  has_content  \n",
       "0       bg  t_16e29365b50d         True  \n",
       "1       en  t_aa32fb6252dc        False  "
      ]
     },
     "execution_count": 3,
     "metadata": {},
     "output_type": "execute_result"
    }
   ],
   "source": [
    "topics_df.head(2)"
   ]
  },
  {
   "cell_type": "markdown",
   "id": "1f98a962",
   "metadata": {
    "papermill": {
     "duration": 0.003049,
     "end_time": "2022-12-26T10:58:31.507843",
     "exception": false,
     "start_time": "2022-12-26T10:58:31.504794",
     "status": "completed"
    },
    "tags": []
   },
   "source": [
    "# Correlation_df\n",
    "Relates the topics_df and content_df\n",
    "+ topic_id - unique (string)\n",
    "+ content_ids - list of contents related to the topic (list of strings)"
   ]
  },
  {
   "cell_type": "code",
   "execution_count": 4,
   "id": "7f8ec8ec",
   "metadata": {
    "execution": {
     "iopub.execute_input": "2022-12-26T10:58:31.516123Z",
     "iopub.status.busy": "2022-12-26T10:58:31.515740Z",
     "iopub.status.idle": "2022-12-26T10:58:31.526300Z",
     "shell.execute_reply": "2022-12-26T10:58:31.525051Z"
    },
    "papermill": {
     "duration": 0.017399,
     "end_time": "2022-12-26T10:58:31.528497",
     "exception": false,
     "start_time": "2022-12-26T10:58:31.511098",
     "status": "completed"
    },
    "tags": []
   },
   "outputs": [
    {
     "data": {
      "text/html": [
       "<div>\n",
       "<style scoped>\n",
       "    .dataframe tbody tr th:only-of-type {\n",
       "        vertical-align: middle;\n",
       "    }\n",
       "\n",
       "    .dataframe tbody tr th {\n",
       "        vertical-align: top;\n",
       "    }\n",
       "\n",
       "    .dataframe thead th {\n",
       "        text-align: right;\n",
       "    }\n",
       "</style>\n",
       "<table border=\"1\" class=\"dataframe\">\n",
       "  <thead>\n",
       "    <tr style=\"text-align: right;\">\n",
       "      <th></th>\n",
       "      <th>topic_id</th>\n",
       "      <th>content_ids</th>\n",
       "    </tr>\n",
       "  </thead>\n",
       "  <tbody>\n",
       "    <tr>\n",
       "      <th>0</th>\n",
       "      <td>t_00004da3a1b2</td>\n",
       "      <td>c_1108dd0c7a5d c_376c5a8eb028 c_5bc0e1e2cba0 c...</td>\n",
       "    </tr>\n",
       "    <tr>\n",
       "      <th>1</th>\n",
       "      <td>t_00068291e9a4</td>\n",
       "      <td>c_639ea2ef9c95 c_89ce9367be10 c_ac1672cdcd2c c...</td>\n",
       "    </tr>\n",
       "  </tbody>\n",
       "</table>\n",
       "</div>"
      ],
      "text/plain": [
       "         topic_id                                        content_ids\n",
       "0  t_00004da3a1b2  c_1108dd0c7a5d c_376c5a8eb028 c_5bc0e1e2cba0 c...\n",
       "1  t_00068291e9a4  c_639ea2ef9c95 c_89ce9367be10 c_ac1672cdcd2c c..."
      ]
     },
     "execution_count": 4,
     "metadata": {},
     "output_type": "execute_result"
    }
   ],
   "source": [
    "correlations_df.head(2)"
   ]
  },
  {
   "cell_type": "code",
   "execution_count": 5,
   "id": "a6812bf4",
   "metadata": {
    "execution": {
     "iopub.execute_input": "2022-12-26T10:58:31.537956Z",
     "iopub.status.busy": "2022-12-26T10:58:31.536740Z",
     "iopub.status.idle": "2022-12-26T10:58:31.552578Z",
     "shell.execute_reply": "2022-12-26T10:58:31.551759Z"
    },
    "papermill": {
     "duration": 0.022846,
     "end_time": "2022-12-26T10:58:31.554916",
     "exception": false,
     "start_time": "2022-12-26T10:58:31.532070",
     "status": "completed"
    },
    "tags": []
   },
   "outputs": [
    {
     "data": {
      "text/html": [
       "<div>\n",
       "<style scoped>\n",
       "    .dataframe tbody tr th:only-of-type {\n",
       "        vertical-align: middle;\n",
       "    }\n",
       "\n",
       "    .dataframe tbody tr th {\n",
       "        vertical-align: top;\n",
       "    }\n",
       "\n",
       "    .dataframe thead th {\n",
       "        text-align: right;\n",
       "    }\n",
       "</style>\n",
       "<table border=\"1\" class=\"dataframe\">\n",
       "  <thead>\n",
       "    <tr style=\"text-align: right;\">\n",
       "      <th></th>\n",
       "      <th>id</th>\n",
       "      <th>title</th>\n",
       "      <th>description</th>\n",
       "      <th>kind</th>\n",
       "      <th>text</th>\n",
       "      <th>language</th>\n",
       "      <th>copyright_holder</th>\n",
       "      <th>license</th>\n",
       "    </tr>\n",
       "  </thead>\n",
       "  <tbody>\n",
       "    <tr>\n",
       "      <th>0</th>\n",
       "      <td>c_00002381196d</td>\n",
       "      <td>Sumar números de varios dígitos: 48,029+233,930</td>\n",
       "      <td>Suma 48,029+233,930 mediante el algoritmo está...</td>\n",
       "      <td>video</td>\n",
       "      <td>NaN</td>\n",
       "      <td>es</td>\n",
       "      <td>NaN</td>\n",
       "      <td>NaN</td>\n",
       "    </tr>\n",
       "    <tr>\n",
       "      <th>1</th>\n",
       "      <td>c_000087304a9e</td>\n",
       "      <td>Trovare i fattori di un numero</td>\n",
       "      <td>Sal trova i fattori di 120.\\n\\n</td>\n",
       "      <td>video</td>\n",
       "      <td>NaN</td>\n",
       "      <td>it</td>\n",
       "      <td>NaN</td>\n",
       "      <td>NaN</td>\n",
       "    </tr>\n",
       "  </tbody>\n",
       "</table>\n",
       "</div>"
      ],
      "text/plain": [
       "               id                                             title  \\\n",
       "0  c_00002381196d  Sumar números de varios dígitos: 48,029+233,930    \n",
       "1  c_000087304a9e                    Trovare i fattori di un numero   \n",
       "\n",
       "                                         description   kind text language  \\\n",
       "0  Suma 48,029+233,930 mediante el algoritmo está...  video  NaN       es   \n",
       "1                    Sal trova i fattori di 120.\\n\\n  video  NaN       it   \n",
       "\n",
       "  copyright_holder license  \n",
       "0              NaN     NaN  \n",
       "1              NaN     NaN  "
      ]
     },
     "execution_count": 5,
     "metadata": {},
     "output_type": "execute_result"
    }
   ],
   "source": [
    "content_df.head(2)"
   ]
  },
  {
   "cell_type": "code",
   "execution_count": 6,
   "id": "51799baa",
   "metadata": {
    "execution": {
     "iopub.execute_input": "2022-12-26T10:58:31.564009Z",
     "iopub.status.busy": "2022-12-26T10:58:31.563587Z",
     "iopub.status.idle": "2022-12-26T10:58:33.010915Z",
     "shell.execute_reply": "2022-12-26T10:58:33.009601Z"
    },
    "papermill": {
     "duration": 1.454966,
     "end_time": "2022-12-26T10:58:33.013582",
     "exception": false,
     "start_time": "2022-12-26T10:58:31.558616",
     "status": "completed"
    },
    "tags": []
   },
   "outputs": [
    {
     "data": {
      "text/html": [
       "<div>\n",
       "<style scoped>\n",
       "    .dataframe tbody tr th:only-of-type {\n",
       "        vertical-align: middle;\n",
       "    }\n",
       "\n",
       "    .dataframe tbody tr th {\n",
       "        vertical-align: top;\n",
       "    }\n",
       "\n",
       "    .dataframe thead th {\n",
       "        text-align: right;\n",
       "    }\n",
       "</style>\n",
       "<table border=\"1\" class=\"dataframe\">\n",
       "  <thead>\n",
       "    <tr style=\"text-align: right;\">\n",
       "      <th></th>\n",
       "      <th>id</th>\n",
       "      <th>title</th>\n",
       "      <th>description</th>\n",
       "      <th>kind</th>\n",
       "      <th>text</th>\n",
       "      <th>language</th>\n",
       "      <th>copyright_holder</th>\n",
       "      <th>license</th>\n",
       "    </tr>\n",
       "  </thead>\n",
       "  <tbody>\n",
       "    <tr>\n",
       "      <th>count</th>\n",
       "      <td>154047</td>\n",
       "      <td>154038</td>\n",
       "      <td>89456</td>\n",
       "      <td>154047</td>\n",
       "      <td>74035</td>\n",
       "      <td>154047</td>\n",
       "      <td>71821</td>\n",
       "      <td>74035</td>\n",
       "    </tr>\n",
       "    <tr>\n",
       "      <th>unique</th>\n",
       "      <td>154047</td>\n",
       "      <td>130937</td>\n",
       "      <td>76305</td>\n",
       "      <td>5</td>\n",
       "      <td>70687</td>\n",
       "      <td>27</td>\n",
       "      <td>148</td>\n",
       "      <td>7</td>\n",
       "    </tr>\n",
       "    <tr>\n",
       "      <th>top</th>\n",
       "      <td>c_00002381196d</td>\n",
       "      <td>Video</td>\n",
       "      <td>v0.1</td>\n",
       "      <td>video</td>\n",
       "      <td>Unsupported browser\\n\\nThe HTML5 content is no...</td>\n",
       "      <td>en</td>\n",
       "      <td>Khan Academy</td>\n",
       "      <td>CC BY-NC-SA</td>\n",
       "    </tr>\n",
       "    <tr>\n",
       "      <th>freq</th>\n",
       "      <td>1</td>\n",
       "      <td>504</td>\n",
       "      <td>903</td>\n",
       "      <td>61487</td>\n",
       "      <td>234</td>\n",
       "      <td>65939</td>\n",
       "      <td>17034</td>\n",
       "      <td>52088</td>\n",
       "    </tr>\n",
       "  </tbody>\n",
       "</table>\n",
       "</div>"
      ],
      "text/plain": [
       "                    id   title description    kind  \\\n",
       "count           154047  154038       89456  154047   \n",
       "unique          154047  130937       76305       5   \n",
       "top     c_00002381196d   Video        v0.1   video   \n",
       "freq                 1     504         903   61487   \n",
       "\n",
       "                                                     text language  \\\n",
       "count                                               74035   154047   \n",
       "unique                                              70687       27   \n",
       "top     Unsupported browser\\n\\nThe HTML5 content is no...       en   \n",
       "freq                                                  234    65939   \n",
       "\n",
       "       copyright_holder      license  \n",
       "count             71821        74035  \n",
       "unique              148            7  \n",
       "top        Khan Academy  CC BY-NC-SA  \n",
       "freq              17034        52088  "
      ]
     },
     "execution_count": 6,
     "metadata": {},
     "output_type": "execute_result"
    }
   ],
   "source": [
    "content_df.describe()"
   ]
  },
  {
   "cell_type": "code",
   "execution_count": null,
   "id": "0fe6f02f",
   "metadata": {
    "papermill": {
     "duration": 0.003638,
     "end_time": "2022-12-26T10:58:33.021723",
     "exception": false,
     "start_time": "2022-12-26T10:58:33.018085",
     "status": "completed"
    },
    "tags": []
   },
   "outputs": [],
   "source": []
  }
 ],
 "metadata": {
  "kernelspec": {
   "display_name": "Python 3",
   "language": "python",
   "name": "python3"
  },
  "language_info": {
   "codemirror_mode": {
    "name": "ipython",
    "version": 3
   },
   "file_extension": ".py",
   "mimetype": "text/x-python",
   "name": "python",
   "nbconvert_exporter": "python",
   "pygments_lexer": "ipython3",
   "version": "3.7.12"
  },
  "papermill": {
   "default_parameters": {},
   "duration": 36.040759,
   "end_time": "2022-12-26T10:58:33.848037",
   "environment_variables": {},
   "exception": null,
   "input_path": "__notebook__.ipynb",
   "output_path": "__notebook__.ipynb",
   "parameters": {},
   "start_time": "2022-12-26T10:57:57.807278",
   "version": "2.3.4"
  }
 },
 "nbformat": 4,
 "nbformat_minor": 5
}
