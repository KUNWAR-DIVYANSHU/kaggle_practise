{
 "cells": [
  {
   "cell_type": "code",
   "execution_count": 1,
   "id": "699baa24",
   "metadata": {
    "_cell_guid": "b1076dfc-b9ad-4769-8c92-a6c4dae69d19",
    "_uuid": "8f2839f25d086af736a60e9eeb907d3b93b6e0e5",
    "execution": {
     "iopub.execute_input": "2022-12-02T22:31:43.409933Z",
     "iopub.status.busy": "2022-12-02T22:31:43.409465Z",
     "iopub.status.idle": "2022-12-02T22:31:43.425624Z",
     "shell.execute_reply": "2022-12-02T22:31:43.424719Z"
    },
    "papermill": {
     "duration": 0.02448,
     "end_time": "2022-12-02T22:31:43.427675",
     "exception": false,
     "start_time": "2022-12-02T22:31:43.403195",
     "status": "completed"
    },
    "tags": []
   },
   "outputs": [
    {
     "name": "stdout",
     "output_type": "stream",
     "text": [
      "/kaggle/input/kaggle-survey-2022/kaggle_survey_2022_responses.csv\n",
      "/kaggle/input/kaggle-survey-2022/Supplementary Data/kaggle_survey_2022_methodology.pdf\n",
      "/kaggle/input/kaggle-survey-2022/Supplementary Data/kaggle_survey_2022_answer_choices.pdf\n"
     ]
    }
   ],
   "source": [
    "# This Python 3 environment comes with many helpful analytics libraries installed\n",
    "# It is defined by the kaggle/python Docker image: https://github.com/kaggle/docker-python\n",
    "# For example, here's several helpful packages to load\n",
    "\n",
    "import numpy as np # linear algebra\n",
    "import pandas as pd # data processing, CSV file I/O (e.g. pd.read_csv)\n",
    "\n",
    "# Input data files are available in the read-only \"../input/\" directory\n",
    "# For example, running this (by clicking run or pressing Shift+Enter) will list all files under the input directory\n",
    "\n",
    "import os\n",
    "for dirname, _, filenames in os.walk('/kaggle/input'):\n",
    "    for filename in filenames:\n",
    "        print(os.path.join(dirname, filename))\n",
    "\n",
    "# You can write up to 20GB to the current directory (/kaggle/working/) that gets preserved as output when you create a version using \"Save & Run All\" \n",
    "# You can also write temporary files to /kaggle/temp/, but they won't be saved outside of the current session"
   ]
  },
  {
   "cell_type": "markdown",
   "id": "b2f3c559",
   "metadata": {
    "papermill": {
     "duration": 0.002953,
     "end_time": "2022-12-02T22:31:43.434093",
     "exception": false,
     "start_time": "2022-12-02T22:31:43.431140",
     "status": "completed"
    },
    "tags": []
   },
   "source": [
    "# Kaggle - Breaking The Myth ( About Data Science & Data Scientists )\n",
    "\n",
    "Kaggle - A community of 8 million+ data scientist and machine learning practitioners. It has been helping people like me and you for around 10 yrs to explore and use datasets , build models and participate in competitions.\n",
    "\n",
    "### It's so nice to win prizes and cash, Isn't it ? 😅\n",
    "\n",
    "<table>\n",
    "    <td>\n",
    "        \n",
    "        \n",
    "<img src=\"https://media.giphy.com/media/MFmHhd0LenGBsqp7Uh/giphy.gif\"/>\n",
    "       \n",
    "   </td>\n",
    "    <td>      \n",
    "\n",
    "        \n",
    "<img src=\"https://media.giphy.com/media/ihYzVSnA59lYr30Okq/giphy.gif\"/>\n",
    "    </td>\n",
    "    </table>\n",
    "\n"
   ]
  },
  {
   "cell_type": "code",
   "execution_count": 2,
   "id": "00e07aef",
   "metadata": {
    "execution": {
     "iopub.execute_input": "2022-12-02T22:31:43.442562Z",
     "iopub.status.busy": "2022-12-02T22:31:43.441888Z",
     "iopub.status.idle": "2022-12-02T22:31:44.471633Z",
     "shell.execute_reply": "2022-12-02T22:31:44.470270Z"
    },
    "papermill": {
     "duration": 1.036984,
     "end_time": "2022-12-02T22:31:44.474225",
     "exception": false,
     "start_time": "2022-12-02T22:31:43.437241",
     "status": "completed"
    },
    "tags": []
   },
   "outputs": [
    {
     "name": "stderr",
     "output_type": "stream",
     "text": [
      "/opt/conda/lib/python3.7/site-packages/IPython/core/interactiveshell.py:3552: DtypeWarning: Columns (0,208,225,255,257,260,270,271,277) have mixed types.Specify dtype option on import or set low_memory=False.\n",
      "  exec(code_obj, self.user_global_ns, self.user_ns)\n"
     ]
    },
    {
     "data": {
      "text/html": [
       "<div>\n",
       "<style scoped>\n",
       "    .dataframe tbody tr th:only-of-type {\n",
       "        vertical-align: middle;\n",
       "    }\n",
       "\n",
       "    .dataframe tbody tr th {\n",
       "        vertical-align: top;\n",
       "    }\n",
       "\n",
       "    .dataframe thead th {\n",
       "        text-align: right;\n",
       "    }\n",
       "</style>\n",
       "<table border=\"1\" class=\"dataframe\">\n",
       "  <thead>\n",
       "    <tr style=\"text-align: right;\">\n",
       "      <th></th>\n",
       "      <th>Duration (in seconds)</th>\n",
       "      <th>Q2</th>\n",
       "      <th>Q3</th>\n",
       "      <th>Q4</th>\n",
       "      <th>Q5</th>\n",
       "      <th>Q6_1</th>\n",
       "      <th>Q6_2</th>\n",
       "      <th>Q6_3</th>\n",
       "      <th>Q6_4</th>\n",
       "      <th>Q6_5</th>\n",
       "      <th>...</th>\n",
       "      <th>Q44_3</th>\n",
       "      <th>Q44_4</th>\n",
       "      <th>Q44_5</th>\n",
       "      <th>Q44_6</th>\n",
       "      <th>Q44_7</th>\n",
       "      <th>Q44_8</th>\n",
       "      <th>Q44_9</th>\n",
       "      <th>Q44_10</th>\n",
       "      <th>Q44_11</th>\n",
       "      <th>Q44_12</th>\n",
       "    </tr>\n",
       "  </thead>\n",
       "  <tbody>\n",
       "    <tr>\n",
       "      <th>0</th>\n",
       "      <td>Duration (in seconds)</td>\n",
       "      <td>What is your age (# years)?</td>\n",
       "      <td>What is your gender? - Selected Choice</td>\n",
       "      <td>In which country do you currently reside?</td>\n",
       "      <td>Are you currently a student? (high school, uni...</td>\n",
       "      <td>On which platforms have you begun or completed...</td>\n",
       "      <td>On which platforms have you begun or completed...</td>\n",
       "      <td>On which platforms have you begun or completed...</td>\n",
       "      <td>On which platforms have you begun or completed...</td>\n",
       "      <td>On which platforms have you begun or completed...</td>\n",
       "      <td>...</td>\n",
       "      <td>Who/what are your favorite media sources that ...</td>\n",
       "      <td>Who/what are your favorite media sources that ...</td>\n",
       "      <td>Who/what are your favorite media sources that ...</td>\n",
       "      <td>Who/what are your favorite media sources that ...</td>\n",
       "      <td>Who/what are your favorite media sources that ...</td>\n",
       "      <td>Who/what are your favorite media sources that ...</td>\n",
       "      <td>Who/what are your favorite media sources that ...</td>\n",
       "      <td>Who/what are your favorite media sources that ...</td>\n",
       "      <td>Who/what are your favorite media sources that ...</td>\n",
       "      <td>Who/what are your favorite media sources that ...</td>\n",
       "    </tr>\n",
       "  </tbody>\n",
       "</table>\n",
       "<p>1 rows × 296 columns</p>\n",
       "</div>"
      ],
      "text/plain": [
       "   Duration (in seconds)                           Q2  \\\n",
       "0  Duration (in seconds)  What is your age (# years)?   \n",
       "\n",
       "                                       Q3  \\\n",
       "0  What is your gender? - Selected Choice   \n",
       "\n",
       "                                          Q4  \\\n",
       "0  In which country do you currently reside?   \n",
       "\n",
       "                                                  Q5  \\\n",
       "0  Are you currently a student? (high school, uni...   \n",
       "\n",
       "                                                Q6_1  \\\n",
       "0  On which platforms have you begun or completed...   \n",
       "\n",
       "                                                Q6_2  \\\n",
       "0  On which platforms have you begun or completed...   \n",
       "\n",
       "                                                Q6_3  \\\n",
       "0  On which platforms have you begun or completed...   \n",
       "\n",
       "                                                Q6_4  \\\n",
       "0  On which platforms have you begun or completed...   \n",
       "\n",
       "                                                Q6_5  ...  \\\n",
       "0  On which platforms have you begun or completed...  ...   \n",
       "\n",
       "                                               Q44_3  \\\n",
       "0  Who/what are your favorite media sources that ...   \n",
       "\n",
       "                                               Q44_4  \\\n",
       "0  Who/what are your favorite media sources that ...   \n",
       "\n",
       "                                               Q44_5  \\\n",
       "0  Who/what are your favorite media sources that ...   \n",
       "\n",
       "                                               Q44_6  \\\n",
       "0  Who/what are your favorite media sources that ...   \n",
       "\n",
       "                                               Q44_7  \\\n",
       "0  Who/what are your favorite media sources that ...   \n",
       "\n",
       "                                               Q44_8  \\\n",
       "0  Who/what are your favorite media sources that ...   \n",
       "\n",
       "                                               Q44_9  \\\n",
       "0  Who/what are your favorite media sources that ...   \n",
       "\n",
       "                                              Q44_10  \\\n",
       "0  Who/what are your favorite media sources that ...   \n",
       "\n",
       "                                              Q44_11  \\\n",
       "0  Who/what are your favorite media sources that ...   \n",
       "\n",
       "                                              Q44_12  \n",
       "0  Who/what are your favorite media sources that ...  \n",
       "\n",
       "[1 rows x 296 columns]"
      ]
     },
     "execution_count": 2,
     "metadata": {},
     "output_type": "execute_result"
    }
   ],
   "source": [
    "df = pd.read_csv(\"/kaggle/input/kaggle-survey-2022/kaggle_survey_2022_responses.csv\")\n",
    "df.head(1)"
   ]
  },
  {
   "cell_type": "code",
   "execution_count": 3,
   "id": "33ed2d1c",
   "metadata": {
    "execution": {
     "iopub.execute_input": "2022-12-02T22:31:44.483116Z",
     "iopub.status.busy": "2022-12-02T22:31:44.482678Z",
     "iopub.status.idle": "2022-12-02T22:31:44.488280Z",
     "shell.execute_reply": "2022-12-02T22:31:44.487009Z"
    },
    "papermill": {
     "duration": 0.012996,
     "end_time": "2022-12-02T22:31:44.490962",
     "exception": false,
     "start_time": "2022-12-02T22:31:44.477966",
     "status": "completed"
    },
    "tags": []
   },
   "outputs": [],
   "source": [
    "df = df.iloc[1:,:] #first row is the column description let's ignore"
   ]
  },
  {
   "cell_type": "markdown",
   "id": "15ad1763",
   "metadata": {
    "papermill": {
     "duration": 0.003503,
     "end_time": "2022-12-02T22:31:44.498720",
     "exception": false,
     "start_time": "2022-12-02T22:31:44.495217",
     "status": "completed"
    },
    "tags": []
   },
   "source": [
    "All joking aside. Let's see the data. Kaggle's sixth online survey have received **23997** responses. \n",
    "\n",
    "    This is enormous amount of data to understand the community and break the myth about data science and data science community. However as the competition overview section suggests  the data, the observations from the survey represent only a subset of the data science community. So to come up with a conclusion about the whole community will not be fair but we have enough data to make conclusion to a great extent of accuracy.\n",
    "\n",
    "Let's try to break the myth by answering the most popular questions on internet."
   ]
  },
  {
   "cell_type": "code",
   "execution_count": 4,
   "id": "5a88652c",
   "metadata": {
    "execution": {
     "iopub.execute_input": "2022-12-02T22:31:44.508133Z",
     "iopub.status.busy": "2022-12-02T22:31:44.507720Z",
     "iopub.status.idle": "2022-12-02T22:31:44.513880Z",
     "shell.execute_reply": "2022-12-02T22:31:44.512287Z"
    },
    "papermill": {
     "duration": 0.013359,
     "end_time": "2022-12-02T22:31:44.516006",
     "exception": false,
     "start_time": "2022-12-02T22:31:44.502647",
     "status": "completed"
    },
    "tags": []
   },
   "outputs": [
    {
     "name": "stdout",
     "output_type": "stream",
     "text": [
      "Total Survey Response Count :  23997\n"
     ]
    }
   ],
   "source": [
    "print(\"Total Survey Response Count : \", df.shape[0]) "
   ]
  },
  {
   "cell_type": "markdown",
   "id": "e3b20105",
   "metadata": {
    "papermill": {
     "duration": 0.003377,
     "end_time": "2022-12-02T22:31:44.523164",
     "exception": false,
     "start_time": "2022-12-02T22:31:44.519787",
     "status": "completed"
    },
    "tags": []
   },
   "source": [
    "### Myth 1 : Most of the data scientist are people with lots of experience ?\n"
   ]
  },
  {
   "cell_type": "code",
   "execution_count": 5,
   "id": "1d6a227d",
   "metadata": {
    "execution": {
     "iopub.execute_input": "2022-12-02T22:31:44.531856Z",
     "iopub.status.busy": "2022-12-02T22:31:44.531462Z",
     "iopub.status.idle": "2022-12-02T22:31:44.596389Z",
     "shell.execute_reply": "2022-12-02T22:31:44.595214Z"
    },
    "papermill": {
     "duration": 0.071875,
     "end_time": "2022-12-02T22:31:44.598672",
     "exception": false,
     "start_time": "2022-12-02T22:31:44.526797",
     "status": "completed"
    },
    "tags": []
   },
   "outputs": [
    {
     "data": {
      "text/html": [
       "        <script type=\"text/javascript\">\n",
       "        window.PlotlyConfig = {MathJaxConfig: 'local'};\n",
       "        if (window.MathJax && window.MathJax.Hub && window.MathJax.Hub.Config) {window.MathJax.Hub.Config({SVG: {font: \"STIX-Web\"}});}\n",
       "        if (typeof require !== 'undefined') {\n",
       "        require.undef(\"plotly\");\n",
       "        requirejs.config({\n",
       "            paths: {\n",
       "                'plotly': ['https://cdn.plot.ly/plotly-2.14.0.min']\n",
       "            }\n",
       "        });\n",
       "        require(['plotly'], function(Plotly) {\n",
       "            window._Plotly = Plotly;\n",
       "        });\n",
       "        }\n",
       "        </script>\n",
       "        "
      ]
     },
     "metadata": {},
     "output_type": "display_data"
    }
   ],
   "source": [
    "from plotly.offline import plot, iplot, init_notebook_mode\n",
    "import plotly.graph_objs as go\n",
    "init_notebook_mode(connected=True)"
   ]
  },
  {
   "cell_type": "code",
   "execution_count": 6,
   "id": "b0f40504",
   "metadata": {
    "execution": {
     "iopub.execute_input": "2022-12-02T22:31:44.608684Z",
     "iopub.status.busy": "2022-12-02T22:31:44.607669Z",
     "iopub.status.idle": "2022-12-02T22:31:46.019713Z",
     "shell.execute_reply": "2022-12-02T22:31:46.018333Z"
    },
    "papermill": {
     "duration": 1.419814,
     "end_time": "2022-12-02T22:31:46.022451",
     "exception": false,
     "start_time": "2022-12-02T22:31:44.602637",
     "status": "completed"
    },
    "tags": []
   },
   "outputs": [],
   "source": [
    "import matplotlib.pyplot as plt\n",
    "import plotly.express as px\n",
    "import plotly.graph_objects as go\n",
    "from plotly.subplots import make_subplots\n"
   ]
  },
  {
   "cell_type": "code",
   "execution_count": 7,
   "id": "551e2de0",
   "metadata": {
    "execution": {
     "iopub.execute_input": "2022-12-02T22:31:46.031718Z",
     "iopub.status.busy": "2022-12-02T22:31:46.031334Z",
     "iopub.status.idle": "2022-12-02T22:31:46.037319Z",
     "shell.execute_reply": "2022-12-02T22:31:46.036201Z"
    },
    "papermill": {
     "duration": 0.013432,
     "end_time": "2022-12-02T22:31:46.039780",
     "exception": false,
     "start_time": "2022-12-02T22:31:46.026348",
     "status": "completed"
    },
    "tags": []
   },
   "outputs": [],
   "source": [
    "colors = [\"\"]"
   ]
  },
  {
   "cell_type": "code",
   "execution_count": 8,
   "id": "dafc1e3b",
   "metadata": {
    "execution": {
     "iopub.execute_input": "2022-12-02T22:31:46.048885Z",
     "iopub.status.busy": "2022-12-02T22:31:46.048499Z",
     "iopub.status.idle": "2022-12-02T22:31:46.648243Z",
     "shell.execute_reply": "2022-12-02T22:31:46.646967Z"
    },
    "papermill": {
     "duration": 0.606597,
     "end_time": "2022-12-02T22:31:46.650293",
     "exception": false,
     "start_time": "2022-12-02T22:31:46.043696",
     "status": "completed"
    },
    "tags": []
   },
   "outputs": [
    {
     "data": {
      "image/png": "[encoded data removed]",
      "text/plain": [
       "<Figure size 1152x576 with 1 Axes>"
      ]
     },
     "metadata": {},
     "output_type": "display_data"
    }
   ],
   "source": [
    "import matplotlib.pyplot as plt\n",
    "\n",
    "fig , ax = plt.subplots(figsize=(16,8) , subplot_kw = dict(aspect=\"equal\"))\n",
    "\n",
    "age_group = df['Q2'].unique()\n",
    "\n",
    "wedges , text = ax.pie(df['Q2'].value_counts().to_list() , wedgeprops=dict(width=0.5) , startangle=0 )\n",
    "\n",
    "bbox_props = dict(boxstyle=\"square,pad=0.5\", fc=\"w\" , ec=\"k\", lw=0.72)\n",
    "kw = dict(arrowprops=dict(arrowstyle=\"-\") , bbox=bbox_props , zorder=0 , va=\"center\")\n",
    "kw2 = dict(bbox=bbox_props, zorder=1 , va=\"center\")\n",
    "\n",
    "\n",
    "for i , p in enumerate(wedges):\n",
    "    ang = (p.theta2 - p.theta1)/2 + p.theta1\n",
    "    percenta = str(round((p.theta2 - p.theta1)*100/360 , 1)) + \"%\"\n",
    "    y = np.sin(np.deg2rad(ang))\n",
    "    x = np.cos(np.deg2rad(ang))\n",
    "    horizontal_alignment = {-1:\"right\",1:\"left\" ,}[int(np.sign(x))]\n",
    "    ax.annotate(age_group[i] ,xy=(x,y) , xytext=(x+0.6*np.sign(x),1.4*y), horizontalalignment=horizontal_alignment, **kw)\n",
    "    ax.annotate(percenta ,xy=(x,y), xytext=(x*0.7,y*0.7) , **kw2)\n",
    "\n",
    "    \n",
    "ax.set_title(\"Age Group Of The Participants\")\n",
    "\n",
    "# plt.pie( , labels=df['Q2'].unique() , autopct='%1.1f%%')\n",
    "\n",
    "plt.show()"
   ]
  },
  {
   "cell_type": "code",
   "execution_count": null,
   "id": "4f7f88b2",
   "metadata": {
    "papermill": {
     "duration": 0.004182,
     "end_time": "2022-12-02T22:31:46.659278",
     "exception": false,
     "start_time": "2022-12-02T22:31:46.655096",
     "status": "completed"
    },
    "tags": []
   },
   "outputs": [],
   "source": []
  },
  {
   "cell_type": "markdown",
   "id": "33a6f52f",
   "metadata": {
    "papermill": {
     "duration": 0.004068,
     "end_time": "2022-12-02T22:31:46.667682",
     "exception": false,
     "start_time": "2022-12-02T22:31:46.663614",
     "status": "completed"
    },
    "tags": []
   },
   "source": [
    "> "
   ]
  }
 ],
 "metadata": {
  "kernelspec": {
   "display_name": "Python 3",
   "language": "python",
   "name": "python3"
  },
  "language_info": {
   "codemirror_mode": {
    "name": "ipython",
    "version": 3
   },
   "file_extension": ".py",
   "mimetype": "text/x-python",
   "name": "python",
   "nbconvert_exporter": "python",
   "pygments_lexer": "ipython3",
   "version": "3.7.12"
  },
  "papermill": {
   "default_parameters": {},
   "duration": 11.963966,
   "end_time": "2022-12-02T22:31:47.495026",
   "environment_variables": {},
   "exception": null,
   "input_path": "__notebook__.ipynb",
   "output_path": "__notebook__.ipynb",
   "parameters": {},
   "start_time": "2022-12-02T22:31:35.531060",
   "version": "2.3.4"
  }
 },
 "nbformat": 4,
 "nbformat_minor": 5
}
