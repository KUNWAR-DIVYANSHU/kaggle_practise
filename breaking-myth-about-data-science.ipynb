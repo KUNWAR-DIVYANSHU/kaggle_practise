{
 "cells": [
  {
   "cell_type": "code",
   "execution_count": 1,
   "id": "e3c8c930",
   "metadata": {
    "_cell_guid": "b1076dfc-b9ad-4769-8c92-a6c4dae69d19",
    "_uuid": "8f2839f25d086af736a60e9eeb907d3b93b6e0e5",
    "execution": {
     "iopub.execute_input": "2022-11-29T15:28:41.872709Z",
     "iopub.status.busy": "2022-11-29T15:28:41.871692Z",
     "iopub.status.idle": "2022-11-29T15:28:41.893408Z",
     "shell.execute_reply": "2022-11-29T15:28:41.892169Z"
    },
    "papermill": {
     "duration": 0.031867,
     "end_time": "2022-11-29T15:28:41.897121",
     "exception": false,
     "start_time": "2022-11-29T15:28:41.865254",
     "status": "completed"
    },
    "tags": []
   },
   "outputs": [
    {
     "name": "stdout",
     "output_type": "stream",
     "text": [
      "/kaggle/input/kaggle-survey-2022/kaggle_survey_2022_responses.csv\n",
      "/kaggle/input/kaggle-survey-2022/Supplementary Data/kaggle_survey_2022_methodology.pdf\n",
      "/kaggle/input/kaggle-survey-2022/Supplementary Data/kaggle_survey_2022_answer_choices.pdf\n"
     ]
    }
   ],
   "source": [
    "# This Python 3 environment comes with many helpful analytics libraries installed\n",
    "# It is defined by the kaggle/python Docker image: https://github.com/kaggle/docker-python\n",
    "# For example, here's several helpful packages to load\n",
    "\n",
    "import numpy as np # linear algebra\n",
    "import pandas as pd # data processing, CSV file I/O (e.g. pd.read_csv)\n",
    "\n",
    "# Input data files are available in the read-only \"../input/\" directory\n",
    "# For example, running this (by clicking run or pressing Shift+Enter) will list all files under the input directory\n",
    "\n",
    "import os\n",
    "for dirname, _, filenames in os.walk('/kaggle/input'):\n",
    "    for filename in filenames:\n",
    "        print(os.path.join(dirname, filename))\n",
    "\n",
    "# You can write up to 20GB to the current directory (/kaggle/working/) that gets preserved as output when you create a version using \"Save & Run All\" \n",
    "# You can also write temporary files to /kaggle/temp/, but they won't be saved outside of the current session"
   ]
  },
  {
   "cell_type": "markdown",
   "id": "4b841b9d",
   "metadata": {
    "papermill": {
     "duration": 0.002956,
     "end_time": "2022-11-29T15:28:41.904178",
     "exception": false,
     "start_time": "2022-11-29T15:28:41.901222",
     "status": "completed"
    },
    "tags": []
   },
   "source": [
    "# Kaggle - Breaking The Myth ( About Data Science & Data Scientists )\n",
    "\n",
    "Kaggle - A community of 8 million+ data scientist and machine learning practitioners. It has been helping people like me and you for around 10 yrs to explore and use datasets , build models and participate in competitions.\n",
    "\n",
    "### It's so nice to win prizes and cash, Isn't it ? 😅\n",
    "\n",
    "<table>\n",
    "    <td>\n",
    "        \n",
    "        \n",
    "<img src=\"https://media.giphy.com/media/MFmHhd0LenGBsqp7Uh/giphy.gif\"/>\n",
    "       \n",
    "   </td>\n",
    "    <td>      \n",
    "\n",
    "        \n",
    "<img src=\"https://media.giphy.com/media/ihYzVSnA59lYr30Okq/giphy.gif\"/>\n",
    "    </td>\n",
    "    </table>\n",
    "\n"
   ]
  },
  {
   "cell_type": "code",
   "execution_count": 2,
   "id": "76ac5e89",
   "metadata": {
    "execution": {
     "iopub.execute_input": "2022-11-29T15:28:41.913131Z",
     "iopub.status.busy": "2022-11-29T15:28:41.912300Z",
     "iopub.status.idle": "2022-11-29T15:28:43.257227Z",
     "shell.execute_reply": "2022-11-29T15:28:43.255529Z"
    },
    "papermill": {
     "duration": 1.352992,
     "end_time": "2022-11-29T15:28:43.260341",
     "exception": false,
     "start_time": "2022-11-29T15:28:41.907349",
     "status": "completed"
    },
    "tags": []
   },
   "outputs": [
    {
     "name": "stderr",
     "output_type": "stream",
     "text": [
      "/opt/conda/lib/python3.7/site-packages/IPython/core/interactiveshell.py:3552: DtypeWarning: Columns (0,208,225,255,257,260,270,271,277) have mixed types.Specify dtype option on import or set low_memory=False.\n",
      "  exec(code_obj, self.user_global_ns, self.user_ns)\n"
     ]
    },
    {
     "data": {
      "text/html": [
       "<div>\n",
       "<style scoped>\n",
       "    .dataframe tbody tr th:only-of-type {\n",
       "        vertical-align: middle;\n",
       "    }\n",
       "\n",
       "    .dataframe tbody tr th {\n",
       "        vertical-align: top;\n",
       "    }\n",
       "\n",
       "    .dataframe thead th {\n",
       "        text-align: right;\n",
       "    }\n",
       "</style>\n",
       "<table border=\"1\" class=\"dataframe\">\n",
       "  <thead>\n",
       "    <tr style=\"text-align: right;\">\n",
       "      <th></th>\n",
       "      <th>Duration (in seconds)</th>\n",
       "      <th>Q2</th>\n",
       "      <th>Q3</th>\n",
       "      <th>Q4</th>\n",
       "      <th>Q5</th>\n",
       "      <th>Q6_1</th>\n",
       "      <th>Q6_2</th>\n",
       "      <th>Q6_3</th>\n",
       "      <th>Q6_4</th>\n",
       "      <th>Q6_5</th>\n",
       "      <th>...</th>\n",
       "      <th>Q44_3</th>\n",
       "      <th>Q44_4</th>\n",
       "      <th>Q44_5</th>\n",
       "      <th>Q44_6</th>\n",
       "      <th>Q44_7</th>\n",
       "      <th>Q44_8</th>\n",
       "      <th>Q44_9</th>\n",
       "      <th>Q44_10</th>\n",
       "      <th>Q44_11</th>\n",
       "      <th>Q44_12</th>\n",
       "    </tr>\n",
       "  </thead>\n",
       "  <tbody>\n",
       "    <tr>\n",
       "      <th>0</th>\n",
       "      <td>Duration (in seconds)</td>\n",
       "      <td>What is your age (# years)?</td>\n",
       "      <td>What is your gender? - Selected Choice</td>\n",
       "      <td>In which country do you currently reside?</td>\n",
       "      <td>Are you currently a student? (high school, uni...</td>\n",
       "      <td>On which platforms have you begun or completed...</td>\n",
       "      <td>On which platforms have you begun or completed...</td>\n",
       "      <td>On which platforms have you begun or completed...</td>\n",
       "      <td>On which platforms have you begun or completed...</td>\n",
       "      <td>On which platforms have you begun or completed...</td>\n",
       "      <td>...</td>\n",
       "      <td>Who/what are your favorite media sources that ...</td>\n",
       "      <td>Who/what are your favorite media sources that ...</td>\n",
       "      <td>Who/what are your favorite media sources that ...</td>\n",
       "      <td>Who/what are your favorite media sources that ...</td>\n",
       "      <td>Who/what are your favorite media sources that ...</td>\n",
       "      <td>Who/what are your favorite media sources that ...</td>\n",
       "      <td>Who/what are your favorite media sources that ...</td>\n",
       "      <td>Who/what are your favorite media sources that ...</td>\n",
       "      <td>Who/what are your favorite media sources that ...</td>\n",
       "      <td>Who/what are your favorite media sources that ...</td>\n",
       "    </tr>\n",
       "  </tbody>\n",
       "</table>\n",
       "<p>1 rows × 296 columns</p>\n",
       "</div>"
      ],
      "text/plain": [
       "   Duration (in seconds)                           Q2  \\\n",
       "0  Duration (in seconds)  What is your age (# years)?   \n",
       "\n",
       "                                       Q3  \\\n",
       "0  What is your gender? - Selected Choice   \n",
       "\n",
       "                                          Q4  \\\n",
       "0  In which country do you currently reside?   \n",
       "\n",
       "                                                  Q5  \\\n",
       "0  Are you currently a student? (high school, uni...   \n",
       "\n",
       "                                                Q6_1  \\\n",
       "0  On which platforms have you begun or completed...   \n",
       "\n",
       "                                                Q6_2  \\\n",
       "0  On which platforms have you begun or completed...   \n",
       "\n",
       "                                                Q6_3  \\\n",
       "0  On which platforms have you begun or completed...   \n",
       "\n",
       "                                                Q6_4  \\\n",
       "0  On which platforms have you begun or completed...   \n",
       "\n",
       "                                                Q6_5  ...  \\\n",
       "0  On which platforms have you begun or completed...  ...   \n",
       "\n",
       "                                               Q44_3  \\\n",
       "0  Who/what are your favorite media sources that ...   \n",
       "\n",
       "                                               Q44_4  \\\n",
       "0  Who/what are your favorite media sources that ...   \n",
       "\n",
       "                                               Q44_5  \\\n",
       "0  Who/what are your favorite media sources that ...   \n",
       "\n",
       "                                               Q44_6  \\\n",
       "0  Who/what are your favorite media sources that ...   \n",
       "\n",
       "                                               Q44_7  \\\n",
       "0  Who/what are your favorite media sources that ...   \n",
       "\n",
       "                                               Q44_8  \\\n",
       "0  Who/what are your favorite media sources that ...   \n",
       "\n",
       "                                               Q44_9  \\\n",
       "0  Who/what are your favorite media sources that ...   \n",
       "\n",
       "                                              Q44_10  \\\n",
       "0  Who/what are your favorite media sources that ...   \n",
       "\n",
       "                                              Q44_11  \\\n",
       "0  Who/what are your favorite media sources that ...   \n",
       "\n",
       "                                              Q44_12  \n",
       "0  Who/what are your favorite media sources that ...  \n",
       "\n",
       "[1 rows x 296 columns]"
      ]
     },
     "execution_count": 2,
     "metadata": {},
     "output_type": "execute_result"
    }
   ],
   "source": [
    "df = pd.read_csv(\"/kaggle/input/kaggle-survey-2022/kaggle_survey_2022_responses.csv\")\n",
    "df.head(1)"
   ]
  },
  {
   "cell_type": "code",
   "execution_count": 3,
   "id": "28d9afed",
   "metadata": {
    "execution": {
     "iopub.execute_input": "2022-11-29T15:28:43.270025Z",
     "iopub.status.busy": "2022-11-29T15:28:43.269537Z",
     "iopub.status.idle": "2022-11-29T15:28:43.275788Z",
     "shell.execute_reply": "2022-11-29T15:28:43.274162Z"
    },
    "papermill": {
     "duration": 0.014618,
     "end_time": "2022-11-29T15:28:43.278710",
     "exception": false,
     "start_time": "2022-11-29T15:28:43.264092",
     "status": "completed"
    },
    "tags": []
   },
   "outputs": [],
   "source": [
    "df = df.iloc[1:,:] #first row is the column description let's ignore"
   ]
  },
  {
   "cell_type": "markdown",
   "id": "c2f79e29",
   "metadata": {
    "papermill": {
     "duration": 0.002943,
     "end_time": "2022-11-29T15:28:43.285024",
     "exception": false,
     "start_time": "2022-11-29T15:28:43.282081",
     "status": "completed"
    },
    "tags": []
   },
   "source": [
    "All joking aside. Let's see the data. Kaggle's sixth online survey have received **23997** responses. \n",
    "\n",
    "    This is enormous amount of data to understand the community and break the myth about data science and data science community. However as the competition overview section suggests  the data, the observations from the survey represent only a subset of the data science community. So to come up with a conclusion about the whole community will not be fair but we have enough data to make conclusion to a great extent of accuracy.\n",
    "\n",
    "Let's try to break the myth by answering the most popular questions on internet."
   ]
  },
  {
   "cell_type": "code",
   "execution_count": 4,
   "id": "64abfc7d",
   "metadata": {
    "execution": {
     "iopub.execute_input": "2022-11-29T15:28:43.294408Z",
     "iopub.status.busy": "2022-11-29T15:28:43.293585Z",
     "iopub.status.idle": "2022-11-29T15:28:43.300858Z",
     "shell.execute_reply": "2022-11-29T15:28:43.299032Z"
    },
    "papermill": {
     "duration": 0.015684,
     "end_time": "2022-11-29T15:28:43.304108",
     "exception": false,
     "start_time": "2022-11-29T15:28:43.288424",
     "status": "completed"
    },
    "tags": []
   },
   "outputs": [
    {
     "name": "stdout",
     "output_type": "stream",
     "text": [
      "Total Survey Response Count :  23997\n"
     ]
    }
   ],
   "source": [
    "print(\"Total Survey Response Count : \", df.shape[0]) "
   ]
  },
  {
   "cell_type": "markdown",
   "id": "70fc6d48",
   "metadata": {
    "papermill": {
     "duration": 0.003245,
     "end_time": "2022-11-29T15:28:43.310964",
     "exception": false,
     "start_time": "2022-11-29T15:28:43.307719",
     "status": "completed"
    },
    "tags": []
   },
   "source": [
    "### Myth 1 : Most of the data scientist are people with lots of experience ?\n"
   ]
  },
  {
   "cell_type": "code",
   "execution_count": 5,
   "id": "2f5bf313",
   "metadata": {
    "execution": {
     "iopub.execute_input": "2022-11-29T15:28:43.319764Z",
     "iopub.status.busy": "2022-11-29T15:28:43.319337Z",
     "iopub.status.idle": "2022-11-29T15:28:44.091155Z",
     "shell.execute_reply": "2022-11-29T15:28:44.089778Z"
    },
    "papermill": {
     "duration": 0.779469,
     "end_time": "2022-11-29T15:28:44.094022",
     "exception": false,
     "start_time": "2022-11-29T15:28:43.314553",
     "status": "completed"
    },
    "tags": []
   },
   "outputs": [
    {
     "data": {
      "image/png": "[encoded data removed]",
      "text/plain": [
       "<Figure size 1152x576 with 1 Axes>"
      ]
     },
     "metadata": {},
     "output_type": "display_data"
    }
   ],
   "source": [
    "import matplotlib.pyplot as plt\n",
    "import random\n",
    "\n",
    "fig , ax = plt.subplots(figsize=(16,8) , subplot_kw = dict(aspect=\"equal\"))\n",
    "\n",
    "age_group = df['Q2'].unique()\n",
    "\n",
    "wedges , text = ax.pie(df['Q2'].value_counts().to_list() , wedgeprops=dict(width=0.5) , startangle=0)\n",
    "\n",
    "bbox_props = dict(boxstyle=\"square,pad=0.5\", fc=\"w\" , ec=\"k\", lw=0.72)\n",
    "kw = dict(arrowprops=dict(arrowstyle=\"-\") , bbox=bbox_props , zorder=0 , va=\"center\")\n",
    "\n",
    "for i , p in enumerate(wedges):\n",
    "    ang = (p.theta2 - p.theta1)/2 + p.theta1\n",
    "    y = np.sin(np.deg2rad(ang))\n",
    "    x = np.cos(np.deg2rad(ang))\n",
    "    horizontal_alignment = {-1:\"right\",1:\"left\" ,}[int(np.sign(x))]\n",
    "    ax.annotate(age_group[i] ,xy=(x,y) , xytext=(x+0.6*np.sign(x),1.4*y), horizontalalignment=horizontal_alignment, **kw) # xytext=(1.35*np.sign(x) ,1.25*y)\n",
    "    \n",
    "ax.set_title(\"Age Group Of The Participants\")\n",
    "\n",
    "# plt.pie( , labels=df['Q2'].unique() , autopct='%1.1f%%')\n",
    "\n",
    "plt.show()"
   ]
  }
 ],
 "metadata": {
  "kernelspec": {
   "display_name": "Python 3",
   "language": "python",
   "name": "python3"
  },
  "language_info": {
   "codemirror_mode": {
    "name": "ipython",
    "version": 3
   },
   "file_extension": ".py",
   "mimetype": "text/x-python",
   "name": "python",
   "nbconvert_exporter": "python",
   "pygments_lexer": "ipython3",
   "version": "3.7.12"
  },
  "papermill": {
   "default_parameters": {},
   "duration": 12.696834,
   "end_time": "2022-11-29T15:28:44.923141",
   "environment_variables": {},
   "exception": null,
   "input_path": "__notebook__.ipynb",
   "output_path": "__notebook__.ipynb",
   "parameters": {},
   "start_time": "2022-11-29T15:28:32.226307",
   "version": "2.3.4"
  }
 },
 "nbformat": 4,
 "nbformat_minor": 5
}
