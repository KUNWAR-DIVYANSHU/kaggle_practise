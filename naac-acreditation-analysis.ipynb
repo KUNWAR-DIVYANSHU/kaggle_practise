{
 "cells": [
  {
   "cell_type": "markdown",
   "id": "2181ad94",
   "metadata": {
    "papermill": {
     "duration": 0.003835,
     "end_time": "2022-08-14T08:36:48.032368",
     "exception": false,
     "start_time": "2022-08-14T08:36:48.028533",
     "status": "completed"
    },
    "tags": []
   },
   "source": [
    "## What is NAAC?\n",
    " The National Assessment and Accreditation Council (NAAC) is a government organisation in India that assesses and accredits Higher Education Institutions (HEIs). It is an autonomous body funded by the University Grants Commission and headquartered in Bangalore"
   ]
  },
  {
   "cell_type": "code",
   "execution_count": 1,
   "id": "08b25744",
   "metadata": {
    "execution": {
     "iopub.execute_input": "2022-08-14T08:36:48.041097Z",
     "iopub.status.busy": "2022-08-14T08:36:48.040359Z",
     "iopub.status.idle": "2022-08-14T08:36:48.050394Z",
     "shell.execute_reply": "2022-08-14T08:36:48.049804Z"
    },
    "papermill": {
     "duration": 0.016855,
     "end_time": "2022-08-14T08:36:48.052443",
     "exception": false,
     "start_time": "2022-08-14T08:36:48.035588",
     "status": "completed"
    },
    "tags": []
   },
   "outputs": [],
   "source": [
    "import pandas as pd\n",
    "import matplotlib.pyplot as plt\n",
    "import numpy as np"
   ]
  },
  {
   "cell_type": "code",
   "execution_count": 2,
   "id": "24f490c4",
   "metadata": {
    "execution": {
     "iopub.execute_input": "2022-08-14T08:36:48.059767Z",
     "iopub.status.busy": "2022-08-14T08:36:48.059465Z",
     "iopub.status.idle": "2022-08-14T08:36:48.157323Z",
     "shell.execute_reply": "2022-08-14T08:36:48.156456Z"
    },
    "papermill": {
     "duration": 0.103638,
     "end_time": "2022-08-14T08:36:48.159165",
     "exception": false,
     "start_time": "2022-08-14T08:36:48.055527",
     "status": "completed"
    },
    "tags": []
   },
   "outputs": [
    {
     "data": {
      "text/html": [
       "<div>\n",
       "<style scoped>\n",
       "    .dataframe tbody tr th:only-of-type {\n",
       "        vertical-align: middle;\n",
       "    }\n",
       "\n",
       "    .dataframe tbody tr th {\n",
       "        vertical-align: top;\n",
       "    }\n",
       "\n",
       "    .dataframe thead th {\n",
       "        text-align: right;\n",
       "    }\n",
       "</style>\n",
       "<table border=\"1\" class=\"dataframe\">\n",
       "  <thead>\n",
       "    <tr style=\"text-align: right;\">\n",
       "      <th></th>\n",
       "      <th>Unnamed: 0</th>\n",
       "      <th>National Assessment and Accreditation Council, Bengaluru</th>\n",
       "      <th>Unnamed: 2</th>\n",
       "      <th>Unnamed: 3</th>\n",
       "      <th>Unnamed: 4</th>\n",
       "      <th>Unnamed: 5</th>\n",
       "      <th>Unnamed: 6</th>\n",
       "      <th>Unnamed: 7</th>\n",
       "      <th>Unnamed: 8</th>\n",
       "      <th>Unnamed: 9</th>\n",
       "      <th>...</th>\n",
       "      <th>Unnamed: 78</th>\n",
       "      <th>Unnamed: 79</th>\n",
       "      <th>Unnamed: 80</th>\n",
       "      <th>Unnamed: 81</th>\n",
       "      <th>Unnamed: 82</th>\n",
       "      <th>Unnamed: 83</th>\n",
       "      <th>Unnamed: 84</th>\n",
       "      <th>Unnamed: 85</th>\n",
       "      <th>Unnamed: 86</th>\n",
       "      <th>Unnamed: 87</th>\n",
       "    </tr>\n",
       "  </thead>\n",
       "  <tbody>\n",
       "    <tr>\n",
       "      <th>0</th>\n",
       "      <td>NaN</td>\n",
       "      <td>NaN</td>\n",
       "      <td>NaN</td>\n",
       "      <td>NaN</td>\n",
       "      <td>NaN</td>\n",
       "      <td>NaN</td>\n",
       "      <td>NaN</td>\n",
       "      <td>NaN</td>\n",
       "      <td>NaN</td>\n",
       "      <td>NaN</td>\n",
       "      <td>...</td>\n",
       "      <td>NaN</td>\n",
       "      <td>NaN</td>\n",
       "      <td>NaN</td>\n",
       "      <td>NaN</td>\n",
       "      <td>NaN</td>\n",
       "      <td>NaN</td>\n",
       "      <td>NaN</td>\n",
       "      <td>NaN</td>\n",
       "      <td>NaN</td>\n",
       "      <td>NaN</td>\n",
       "    </tr>\n",
       "    <tr>\n",
       "      <th>1</th>\n",
       "      <td>NaN</td>\n",
       "      <td>Colleges accredited by NAAC having valid accre...</td>\n",
       "      <td>NaN</td>\n",
       "      <td>NaN</td>\n",
       "      <td>NaN</td>\n",
       "      <td>NaN</td>\n",
       "      <td>NaN</td>\n",
       "      <td>NaN</td>\n",
       "      <td>NaN</td>\n",
       "      <td>NaN</td>\n",
       "      <td>...</td>\n",
       "      <td>NaN</td>\n",
       "      <td>NaN</td>\n",
       "      <td>NaN</td>\n",
       "      <td>NaN</td>\n",
       "      <td>NaN</td>\n",
       "      <td>NaN</td>\n",
       "      <td>NaN</td>\n",
       "      <td>NaN</td>\n",
       "      <td>NaN</td>\n",
       "      <td>NaN</td>\n",
       "    </tr>\n",
       "    <tr>\n",
       "      <th>2</th>\n",
       "      <td>NaN</td>\n",
       "      <td>NaN</td>\n",
       "      <td>NaN</td>\n",
       "      <td>NaN</td>\n",
       "      <td>NaN</td>\n",
       "      <td>NaN</td>\n",
       "      <td>NaN</td>\n",
       "      <td>NaN</td>\n",
       "      <td>NaN</td>\n",
       "      <td>NaN</td>\n",
       "      <td>...</td>\n",
       "      <td>NaN</td>\n",
       "      <td>NaN</td>\n",
       "      <td>NaN</td>\n",
       "      <td>NaN</td>\n",
       "      <td>NaN</td>\n",
       "      <td>NaN</td>\n",
       "      <td>NaN</td>\n",
       "      <td>NaN</td>\n",
       "      <td>NaN</td>\n",
       "      <td>NaN</td>\n",
       "    </tr>\n",
       "    <tr>\n",
       "      <th>3</th>\n",
       "      <td>NaN</td>\n",
       "      <td>Sr. No.</td>\n",
       "      <td>Name of the College</td>\n",
       "      <td>State</td>\n",
       "      <td>CGPA</td>\n",
       "      <td>Grade</td>\n",
       "      <td>Accreditation valid up to</td>\n",
       "      <td>NaN</td>\n",
       "      <td>NaN</td>\n",
       "      <td>NaN</td>\n",
       "      <td>...</td>\n",
       "      <td>NaN</td>\n",
       "      <td>NaN</td>\n",
       "      <td>NaN</td>\n",
       "      <td>NaN</td>\n",
       "      <td>NaN</td>\n",
       "      <td>NaN</td>\n",
       "      <td>NaN</td>\n",
       "      <td>NaN</td>\n",
       "      <td>NaN</td>\n",
       "      <td>NaN</td>\n",
       "    </tr>\n",
       "    <tr>\n",
       "      <th>4</th>\n",
       "      <td>NaN</td>\n",
       "      <td>1</td>\n",
       "      <td>MAHATMA GANDHI GOVERNMENT COLLEGE, MAHATMA GAN...</td>\n",
       "      <td>Andaman and Nicobar Islands</td>\n",
       "      <td>1.88</td>\n",
       "      <td>C</td>\n",
       "      <td>22-02-2026</td>\n",
       "      <td>NaN</td>\n",
       "      <td>NaN</td>\n",
       "      <td>NaN</td>\n",
       "      <td>...</td>\n",
       "      <td>NaN</td>\n",
       "      <td>NaN</td>\n",
       "      <td>NaN</td>\n",
       "      <td>NaN</td>\n",
       "      <td>NaN</td>\n",
       "      <td>NaN</td>\n",
       "      <td>NaN</td>\n",
       "      <td>NaN</td>\n",
       "      <td>NaN</td>\n",
       "      <td>NaN</td>\n",
       "    </tr>\n",
       "  </tbody>\n",
       "</table>\n",
       "<p>5 rows × 88 columns</p>\n",
       "</div>"
      ],
      "text/plain": [
       "   Unnamed: 0 National Assessment and Accreditation Council, Bengaluru  \\\n",
       "0         NaN                                                NaN         \n",
       "1         NaN  Colleges accredited by NAAC having valid accre...         \n",
       "2         NaN                                                NaN         \n",
       "3         NaN                                            Sr. No.         \n",
       "4         NaN                                                  1         \n",
       "\n",
       "                                          Unnamed: 2  \\\n",
       "0                                                NaN   \n",
       "1                                                NaN   \n",
       "2                                                NaN   \n",
       "3                                Name of the College   \n",
       "4  MAHATMA GANDHI GOVERNMENT COLLEGE, MAHATMA GAN...   \n",
       "\n",
       "                    Unnamed: 3 Unnamed: 4 Unnamed: 5  \\\n",
       "0                          NaN        NaN        NaN   \n",
       "1                          NaN        NaN        NaN   \n",
       "2                          NaN        NaN        NaN   \n",
       "3                        State       CGPA      Grade   \n",
       "4  Andaman and Nicobar Islands       1.88          C   \n",
       "\n",
       "                  Unnamed: 6 Unnamed: 7  Unnamed: 8  Unnamed: 9  ...  \\\n",
       "0                        NaN        NaN         NaN         NaN  ...   \n",
       "1                        NaN        NaN         NaN         NaN  ...   \n",
       "2                        NaN        NaN         NaN         NaN  ...   \n",
       "3  Accreditation valid up to        NaN         NaN         NaN  ...   \n",
       "4                 22-02-2026        NaN         NaN         NaN  ...   \n",
       "\n",
       "   Unnamed: 78  Unnamed: 79  Unnamed: 80  Unnamed: 81  Unnamed: 82  \\\n",
       "0          NaN          NaN          NaN          NaN          NaN   \n",
       "1          NaN          NaN          NaN          NaN          NaN   \n",
       "2          NaN          NaN          NaN          NaN          NaN   \n",
       "3          NaN          NaN          NaN          NaN          NaN   \n",
       "4          NaN          NaN          NaN          NaN          NaN   \n",
       "\n",
       "   Unnamed: 83  Unnamed: 84  Unnamed: 85  Unnamed: 86  Unnamed: 87  \n",
       "0          NaN          NaN          NaN          NaN          NaN  \n",
       "1          NaN          NaN          NaN          NaN          NaN  \n",
       "2          NaN          NaN          NaN          NaN          NaN  \n",
       "3          NaN          NaN          NaN          NaN          NaN  \n",
       "4          NaN          NaN          NaN          NaN          NaN  \n",
       "\n",
       "[5 rows x 88 columns]"
      ]
     },
     "execution_count": 2,
     "metadata": {},
     "output_type": "execute_result"
    }
   ],
   "source": [
    "df = pd.read_csv('../input/naac-accreditation-data/NAAC accreditation of Institutions.csv')\n",
    "df.head()"
   ]
  },
  {
   "cell_type": "markdown",
   "id": "fa91673e",
   "metadata": {
    "papermill": {
     "duration": 0.002851,
     "end_time": "2022-08-14T08:36:48.165328",
     "exception": false,
     "start_time": "2022-08-14T08:36:48.162477",
     "status": "completed"
    },
    "tags": []
   },
   "source": [
    "#### Data Cleaning Process.\n",
    "+ Remove unwanted columns and rows\n",
    "+ Rename Columns\n",
    "+ Set Index"
   ]
  },
  {
   "cell_type": "code",
   "execution_count": 3,
   "id": "14fba661",
   "metadata": {
    "execution": {
     "iopub.execute_input": "2022-08-14T08:36:48.173043Z",
     "iopub.status.busy": "2022-08-14T08:36:48.172320Z",
     "iopub.status.idle": "2022-08-14T08:36:48.198606Z",
     "shell.execute_reply": "2022-08-14T08:36:48.197807Z"
    },
    "papermill": {
     "duration": 0.031897,
     "end_time": "2022-08-14T08:36:48.200213",
     "exception": false,
     "start_time": "2022-08-14T08:36:48.168316",
     "status": "completed"
    },
    "tags": []
   },
   "outputs": [
    {
     "data": {
      "text/html": [
       "<div>\n",
       "<style scoped>\n",
       "    .dataframe tbody tr th:only-of-type {\n",
       "        vertical-align: middle;\n",
       "    }\n",
       "\n",
       "    .dataframe tbody tr th {\n",
       "        vertical-align: top;\n",
       "    }\n",
       "\n",
       "    .dataframe thead th {\n",
       "        text-align: right;\n",
       "    }\n",
       "</style>\n",
       "<table border=\"1\" class=\"dataframe\">\n",
       "  <thead>\n",
       "    <tr style=\"text-align: right;\">\n",
       "      <th></th>\n",
       "      <th>National Assessment and Accreditation Council, Bengaluru</th>\n",
       "      <th>Unnamed: 2</th>\n",
       "      <th>Unnamed: 3</th>\n",
       "      <th>Unnamed: 4</th>\n",
       "      <th>Unnamed: 5</th>\n",
       "      <th>Unnamed: 6</th>\n",
       "    </tr>\n",
       "  </thead>\n",
       "  <tbody>\n",
       "    <tr>\n",
       "      <th>4</th>\n",
       "      <td>1</td>\n",
       "      <td>MAHATMA GANDHI GOVERNMENT COLLEGE, MAHATMA GAN...</td>\n",
       "      <td>Andaman and Nicobar Islands</td>\n",
       "      <td>1.88</td>\n",
       "      <td>C</td>\n",
       "      <td>22-02-2026</td>\n",
       "    </tr>\n",
       "    <tr>\n",
       "      <th>5</th>\n",
       "      <td>2</td>\n",
       "      <td>Jawaharlal Nehru Rajkeeya Mahavidyalaya, Port ...</td>\n",
       "      <td>Andaman and Nicobar Islands</td>\n",
       "      <td>3.01</td>\n",
       "      <td>A</td>\n",
       "      <td>04-11-2021</td>\n",
       "    </tr>\n",
       "    <tr>\n",
       "      <th>6</th>\n",
       "      <td>3</td>\n",
       "      <td>Dr. B. R. Ambedkar Institute of Technology (Fi...</td>\n",
       "      <td>Andaman and Nicobar Islands</td>\n",
       "      <td>2.61</td>\n",
       "      <td>B+</td>\n",
       "      <td>02-07-2023</td>\n",
       "    </tr>\n",
       "    <tr>\n",
       "      <th>7</th>\n",
       "      <td>4</td>\n",
       "      <td>Aditya College of Engineering and Technology K...</td>\n",
       "      <td>Andhra Pradesh</td>\n",
       "      <td>2.68</td>\n",
       "      <td>B</td>\n",
       "      <td>10-07-2021</td>\n",
       "    </tr>\n",
       "    <tr>\n",
       "      <th>8</th>\n",
       "      <td>5</td>\n",
       "      <td>Aditya Engineering College  Dist. East Godavar...</td>\n",
       "      <td>Andhra Pradesh</td>\n",
       "      <td>3.11</td>\n",
       "      <td>A</td>\n",
       "      <td>30-04-2020</td>\n",
       "    </tr>\n",
       "  </tbody>\n",
       "</table>\n",
       "</div>"
      ],
      "text/plain": [
       "  National Assessment and Accreditation Council, Bengaluru  \\\n",
       "4                                                  1         \n",
       "5                                                  2         \n",
       "6                                                  3         \n",
       "7                                                  4         \n",
       "8                                                  5         \n",
       "\n",
       "                                          Unnamed: 2  \\\n",
       "4  MAHATMA GANDHI GOVERNMENT COLLEGE, MAHATMA GAN...   \n",
       "5  Jawaharlal Nehru Rajkeeya Mahavidyalaya, Port ...   \n",
       "6  Dr. B. R. Ambedkar Institute of Technology (Fi...   \n",
       "7  Aditya College of Engineering and Technology K...   \n",
       "8  Aditya Engineering College  Dist. East Godavar...   \n",
       "\n",
       "                    Unnamed: 3 Unnamed: 4 Unnamed: 5  Unnamed: 6  \n",
       "4  Andaman and Nicobar Islands       1.88          C  22-02-2026  \n",
       "5  Andaman and Nicobar Islands       3.01          A  04-11-2021  \n",
       "6  Andaman and Nicobar Islands       2.61         B+  02-07-2023  \n",
       "7               Andhra Pradesh       2.68          B  10-07-2021  \n",
       "8               Andhra Pradesh       3.11          A  30-04-2020  "
      ]
     },
     "execution_count": 3,
     "metadata": {},
     "output_type": "execute_result"
    }
   ],
   "source": [
    "#Remove Unwanted columns and rows\n",
    "df.drop([0,1,2,3], inplace=True)\n",
    "\n",
    "#removing columns from 7 to 88\n",
    "df.drop(df.iloc[:, 7:88], inplace=True, axis=1)\n",
    "df.drop(df.columns[0], inplace=True, axis=1)\n",
    "df.head()"
   ]
  },
  {
   "cell_type": "code",
   "execution_count": 4,
   "id": "56dcefa0",
   "metadata": {
    "execution": {
     "iopub.execute_input": "2022-08-14T08:36:48.208815Z",
     "iopub.status.busy": "2022-08-14T08:36:48.208327Z",
     "iopub.status.idle": "2022-08-14T08:36:48.223671Z",
     "shell.execute_reply": "2022-08-14T08:36:48.221780Z"
    },
    "papermill": {
     "duration": 0.02256,
     "end_time": "2022-08-14T08:36:48.226276",
     "exception": false,
     "start_time": "2022-08-14T08:36:48.203716",
     "status": "completed"
    },
    "tags": []
   },
   "outputs": [
    {
     "data": {
      "text/html": [
       "<div>\n",
       "<style scoped>\n",
       "    .dataframe tbody tr th:only-of-type {\n",
       "        vertical-align: middle;\n",
       "    }\n",
       "\n",
       "    .dataframe tbody tr th {\n",
       "        vertical-align: top;\n",
       "    }\n",
       "\n",
       "    .dataframe thead th {\n",
       "        text-align: right;\n",
       "    }\n",
       "</style>\n",
       "<table border=\"1\" class=\"dataframe\">\n",
       "  <thead>\n",
       "    <tr style=\"text-align: right;\">\n",
       "      <th></th>\n",
       "      <th>College Name</th>\n",
       "      <th>State</th>\n",
       "      <th>Score</th>\n",
       "      <th>Grade</th>\n",
       "      <th>Valid Upto</th>\n",
       "    </tr>\n",
       "    <tr>\n",
       "      <th>Sr.No</th>\n",
       "      <th></th>\n",
       "      <th></th>\n",
       "      <th></th>\n",
       "      <th></th>\n",
       "      <th></th>\n",
       "    </tr>\n",
       "  </thead>\n",
       "  <tbody>\n",
       "    <tr>\n",
       "      <th>1</th>\n",
       "      <td>MAHATMA GANDHI GOVERNMENT COLLEGE, MAHATMA GAN...</td>\n",
       "      <td>Andaman and Nicobar Islands</td>\n",
       "      <td>1.88</td>\n",
       "      <td>C</td>\n",
       "      <td>22-02-2026</td>\n",
       "    </tr>\n",
       "    <tr>\n",
       "      <th>2</th>\n",
       "      <td>Jawaharlal Nehru Rajkeeya Mahavidyalaya, Port ...</td>\n",
       "      <td>Andaman and Nicobar Islands</td>\n",
       "      <td>3.01</td>\n",
       "      <td>A</td>\n",
       "      <td>04-11-2021</td>\n",
       "    </tr>\n",
       "    <tr>\n",
       "      <th>3</th>\n",
       "      <td>Dr. B. R. Ambedkar Institute of Technology (Fi...</td>\n",
       "      <td>Andaman and Nicobar Islands</td>\n",
       "      <td>2.61</td>\n",
       "      <td>B+</td>\n",
       "      <td>02-07-2023</td>\n",
       "    </tr>\n",
       "    <tr>\n",
       "      <th>4</th>\n",
       "      <td>Aditya College of Engineering and Technology K...</td>\n",
       "      <td>Andhra Pradesh</td>\n",
       "      <td>2.68</td>\n",
       "      <td>B</td>\n",
       "      <td>10-07-2021</td>\n",
       "    </tr>\n",
       "    <tr>\n",
       "      <th>5</th>\n",
       "      <td>Aditya Engineering College  Dist. East Godavar...</td>\n",
       "      <td>Andhra Pradesh</td>\n",
       "      <td>3.11</td>\n",
       "      <td>A</td>\n",
       "      <td>30-04-2020</td>\n",
       "    </tr>\n",
       "  </tbody>\n",
       "</table>\n",
       "</div>"
      ],
      "text/plain": [
       "                                            College Name  \\\n",
       "Sr.No                                                      \n",
       "1      MAHATMA GANDHI GOVERNMENT COLLEGE, MAHATMA GAN...   \n",
       "2      Jawaharlal Nehru Rajkeeya Mahavidyalaya, Port ...   \n",
       "3      Dr. B. R. Ambedkar Institute of Technology (Fi...   \n",
       "4      Aditya College of Engineering and Technology K...   \n",
       "5      Aditya Engineering College  Dist. East Godavar...   \n",
       "\n",
       "                             State Score Grade  Valid Upto  \n",
       "Sr.No                                                       \n",
       "1      Andaman and Nicobar Islands  1.88     C  22-02-2026  \n",
       "2      Andaman and Nicobar Islands  3.01     A  04-11-2021  \n",
       "3      Andaman and Nicobar Islands  2.61    B+  02-07-2023  \n",
       "4                   Andhra Pradesh  2.68     B  10-07-2021  \n",
       "5                   Andhra Pradesh  3.11     A  30-04-2020  "
      ]
     },
     "execution_count": 4,
     "metadata": {},
     "output_type": "execute_result"
    }
   ],
   "source": [
    "#Rename columns\n",
    "df.rename(columns={'National Assessment and Accreditation Council, Bengaluru':'Sr.No','Unnamed: 2':'College Name','Unnamed: 3':'State'\n",
    "          ,'Unnamed: 4':'Score','Unnamed: 5':'Grade','Unnamed: 6':'Valid Upto'}, inplace=True)\n",
    "\n",
    "#reset index\n",
    "df.set_index(\"Sr.No\" , inplace=True)\n",
    "\n",
    "df.head()"
   ]
  },
  {
   "cell_type": "code",
   "execution_count": 5,
   "id": "559ae5a1",
   "metadata": {
    "execution": {
     "iopub.execute_input": "2022-08-14T08:36:48.235047Z",
     "iopub.status.busy": "2022-08-14T08:36:48.234722Z",
     "iopub.status.idle": "2022-08-14T08:36:48.247485Z",
     "shell.execute_reply": "2022-08-14T08:36:48.246515Z"
    },
    "papermill": {
     "duration": 0.01898,
     "end_time": "2022-08-14T08:36:48.249243",
     "exception": false,
     "start_time": "2022-08-14T08:36:48.230263",
     "status": "completed"
    },
    "tags": []
   },
   "outputs": [
    {
     "data": {
      "text/html": [
       "<div>\n",
       "<style scoped>\n",
       "    .dataframe tbody tr th:only-of-type {\n",
       "        vertical-align: middle;\n",
       "    }\n",
       "\n",
       "    .dataframe tbody tr th {\n",
       "        vertical-align: top;\n",
       "    }\n",
       "\n",
       "    .dataframe thead th {\n",
       "        text-align: right;\n",
       "    }\n",
       "</style>\n",
       "<table border=\"1\" class=\"dataframe\">\n",
       "  <thead>\n",
       "    <tr style=\"text-align: right;\">\n",
       "      <th></th>\n",
       "      <th>College Name</th>\n",
       "      <th>State</th>\n",
       "      <th>Score</th>\n",
       "      <th>Grade</th>\n",
       "      <th>Valid Upto</th>\n",
       "    </tr>\n",
       "    <tr>\n",
       "      <th>Sr.No</th>\n",
       "      <th></th>\n",
       "      <th></th>\n",
       "      <th></th>\n",
       "      <th></th>\n",
       "      <th></th>\n",
       "    </tr>\n",
       "  </thead>\n",
       "  <tbody>\n",
       "    <tr>\n",
       "      <th>1</th>\n",
       "      <td>MAHATMA GANDHI GOVERNMENT COLLEGE, MAHATMA GAN...</td>\n",
       "      <td>Andaman and Nicobar Islands</td>\n",
       "      <td>1.88</td>\n",
       "      <td>C</td>\n",
       "      <td>22-02-2026</td>\n",
       "    </tr>\n",
       "    <tr>\n",
       "      <th>2</th>\n",
       "      <td>Jawaharlal Nehru Rajkeeya Mahavidyalaya, Port ...</td>\n",
       "      <td>Andaman and Nicobar Islands</td>\n",
       "      <td>3.01</td>\n",
       "      <td>A</td>\n",
       "      <td>04-11-2021</td>\n",
       "    </tr>\n",
       "    <tr>\n",
       "      <th>3</th>\n",
       "      <td>Dr. B. R. Ambedkar Institute of Technology (Fi...</td>\n",
       "      <td>Andaman and Nicobar Islands</td>\n",
       "      <td>2.61</td>\n",
       "      <td>B+</td>\n",
       "      <td>02-07-2023</td>\n",
       "    </tr>\n",
       "    <tr>\n",
       "      <th>4</th>\n",
       "      <td>Aditya College of Engineering and Technology K...</td>\n",
       "      <td>Andhra Pradesh</td>\n",
       "      <td>2.68</td>\n",
       "      <td>B</td>\n",
       "      <td>10-07-2021</td>\n",
       "    </tr>\n",
       "    <tr>\n",
       "      <th>5</th>\n",
       "      <td>Aditya Engineering College  Dist. East Godavar...</td>\n",
       "      <td>Andhra Pradesh</td>\n",
       "      <td>3.11</td>\n",
       "      <td>A</td>\n",
       "      <td>30-04-2020</td>\n",
       "    </tr>\n",
       "    <tr>\n",
       "      <th>...</th>\n",
       "      <td>...</td>\n",
       "      <td>...</td>\n",
       "      <td>...</td>\n",
       "      <td>...</td>\n",
       "      <td>...</td>\n",
       "    </tr>\n",
       "    <tr>\n",
       "      <th>6197</th>\n",
       "      <td>Khandra College,P.O.- Khandra, P.S. Andal, Dis...</td>\n",
       "      <td>West Bengal</td>\n",
       "      <td>1.65</td>\n",
       "      <td>C</td>\n",
       "      <td>01-11-2023</td>\n",
       "    </tr>\n",
       "    <tr>\n",
       "      <th>6198</th>\n",
       "      <td>Katwa College,Dukbanglow Road, Purba Bardhaman...</td>\n",
       "      <td>West Bengal</td>\n",
       "      <td>1.65</td>\n",
       "      <td>C</td>\n",
       "      <td>01-11-2023</td>\n",
       "    </tr>\n",
       "    <tr>\n",
       "      <th>6199</th>\n",
       "      <td>NSHM Knowledge Campus, Kolkata - Group of Inst...</td>\n",
       "      <td>West Bengal</td>\n",
       "      <td>2.82</td>\n",
       "      <td>B++</td>\n",
       "      <td>29-11-2023</td>\n",
       "    </tr>\n",
       "    <tr>\n",
       "      <th>6200</th>\n",
       "      <td>SAHEED NURUL ISLAM MAHAVIDYALAYA,GOKULPUR-HARI...</td>\n",
       "      <td>West Bengal</td>\n",
       "      <td>2.19</td>\n",
       "      <td>B</td>\n",
       "      <td>31-03-2024</td>\n",
       "    </tr>\n",
       "    <tr>\n",
       "      <th>6201</th>\n",
       "      <td>SALESIAN COLLEGE,SONADA PO SONADA DARJEELING,S...</td>\n",
       "      <td>West Bengal</td>\n",
       "      <td>3.04</td>\n",
       "      <td>A</td>\n",
       "      <td>19-05-2024</td>\n",
       "    </tr>\n",
       "  </tbody>\n",
       "</table>\n",
       "<p>6201 rows × 5 columns</p>\n",
       "</div>"
      ],
      "text/plain": [
       "                                            College Name  \\\n",
       "Sr.No                                                      \n",
       "1      MAHATMA GANDHI GOVERNMENT COLLEGE, MAHATMA GAN...   \n",
       "2      Jawaharlal Nehru Rajkeeya Mahavidyalaya, Port ...   \n",
       "3      Dr. B. R. Ambedkar Institute of Technology (Fi...   \n",
       "4      Aditya College of Engineering and Technology K...   \n",
       "5      Aditya Engineering College  Dist. East Godavar...   \n",
       "...                                                  ...   \n",
       "6197   Khandra College,P.O.- Khandra, P.S. Andal, Dis...   \n",
       "6198   Katwa College,Dukbanglow Road, Purba Bardhaman...   \n",
       "6199   NSHM Knowledge Campus, Kolkata - Group of Inst...   \n",
       "6200   SAHEED NURUL ISLAM MAHAVIDYALAYA,GOKULPUR-HARI...   \n",
       "6201   SALESIAN COLLEGE,SONADA PO SONADA DARJEELING,S...   \n",
       "\n",
       "                             State Score Grade  Valid Upto  \n",
       "Sr.No                                                       \n",
       "1      Andaman and Nicobar Islands  1.88     C  22-02-2026  \n",
       "2      Andaman and Nicobar Islands  3.01     A  04-11-2021  \n",
       "3      Andaman and Nicobar Islands  2.61    B+  02-07-2023  \n",
       "4                   Andhra Pradesh  2.68     B  10-07-2021  \n",
       "5                   Andhra Pradesh  3.11     A  30-04-2020  \n",
       "...                            ...   ...   ...         ...  \n",
       "6197                  West Bengal   1.65     C  01-11-2023  \n",
       "6198                  West Bengal   1.65     C  01-11-2023  \n",
       "6199                  West Bengal   2.82   B++  29-11-2023  \n",
       "6200                  West Bengal   2.19     B  31-03-2024  \n",
       "6201                  West Bengal   3.04     A  19-05-2024  \n",
       "\n",
       "[6201 rows x 5 columns]"
      ]
     },
     "execution_count": 5,
     "metadata": {},
     "output_type": "execute_result"
    }
   ],
   "source": [
    "df"
   ]
  },
  {
   "cell_type": "code",
   "execution_count": 6,
   "id": "c4852a5c",
   "metadata": {
    "execution": {
     "iopub.execute_input": "2022-08-14T08:36:48.258453Z",
     "iopub.status.busy": "2022-08-14T08:36:48.258088Z",
     "iopub.status.idle": "2022-08-14T08:36:48.267033Z",
     "shell.execute_reply": "2022-08-14T08:36:48.266046Z"
    },
    "papermill": {
     "duration": 0.016953,
     "end_time": "2022-08-14T08:36:48.270176",
     "exception": false,
     "start_time": "2022-08-14T08:36:48.253223",
     "status": "completed"
    },
    "tags": []
   },
   "outputs": [
    {
     "name": "stdout",
     "output_type": "stream",
     "text": [
      "Count :  6201\n",
      "Max Score :  3.86\n",
      "Min Score :  1.51\n"
     ]
    }
   ],
   "source": [
    "# description of data\n",
    "print(\"Count : \" , df['College Name'].size)\n",
    "print(\"Max Score : \" , df['Score'].max())\n",
    "print(\"Min Score : \", df['Score'].min())"
   ]
  },
  {
   "cell_type": "markdown",
   "id": "e3d9fab7",
   "metadata": {
    "papermill": {
     "duration": 0.003603,
     "end_time": "2022-08-14T08:36:48.278207",
     "exception": false,
     "start_time": "2022-08-14T08:36:48.274604",
     "status": "completed"
    },
    "tags": []
   },
   "source": [
    "## Analyze Data 1\n",
    "+ Count University by Grade\n",
    "+ Plot a histogram"
   ]
  },
  {
   "cell_type": "code",
   "execution_count": 7,
   "id": "3baad46e",
   "metadata": {
    "execution": {
     "iopub.execute_input": "2022-08-14T08:36:48.287514Z",
     "iopub.status.busy": "2022-08-14T08:36:48.286821Z",
     "iopub.status.idle": "2022-08-14T08:36:48.305629Z",
     "shell.execute_reply": "2022-08-14T08:36:48.304411Z"
    },
    "papermill": {
     "duration": 0.025486,
     "end_time": "2022-08-14T08:36:48.307447",
     "exception": false,
     "start_time": "2022-08-14T08:36:48.281961",
     "status": "completed"
    },
    "tags": []
   },
   "outputs": [
    {
     "name": "stdout",
     "output_type": "stream",
     "text": [
      "['C' 'A' 'B+' 'B' 'A+' 'B++' 'A++' 'A '] [642, 1138, 916, 2528, 234, 689, 51, 3]\n"
     ]
    }
   ],
   "source": [
    "grades = df['Grade'].unique()\n",
    "grades_val = []\n",
    "for i in grades:\n",
    "    grades_val.append( df[df['Grade']==i].all(1).count() )\n",
    "print(grades , grades_val)"
   ]
  },
  {
   "cell_type": "code",
   "execution_count": 8,
   "id": "11d30719",
   "metadata": {
    "execution": {
     "iopub.execute_input": "2022-08-14T08:36:48.317407Z",
     "iopub.status.busy": "2022-08-14T08:36:48.316633Z",
     "iopub.status.idle": "2022-08-14T08:36:48.473315Z",
     "shell.execute_reply": "2022-08-14T08:36:48.472582Z"
    },
    "papermill": {
     "duration": 0.163723,
     "end_time": "2022-08-14T08:36:48.475347",
     "exception": false,
     "start_time": "2022-08-14T08:36:48.311624",
     "status": "completed"
    },
    "tags": []
   },
   "outputs": [
    {
     "data": {
      "text/plain": [
       "<BarContainer object of 8 artists>"
      ]
     },
     "execution_count": 8,
     "metadata": {},
     "output_type": "execute_result"
    },
    {
     "data": {
      "image/png": "[encoded data removed]",
      "text/plain": [
       "<Figure size 432x288 with 1 Axes>"
      ]
     },
     "metadata": {
      "needs_background": "light"
     },
     "output_type": "display_data"
    }
   ],
   "source": [
    "plt.bar(grades , grades_val)"
   ]
  },
  {
   "cell_type": "code",
   "execution_count": 9,
   "id": "36202733",
   "metadata": {
    "execution": {
     "iopub.execute_input": "2022-08-14T08:36:48.485364Z",
     "iopub.status.busy": "2022-08-14T08:36:48.484926Z",
     "iopub.status.idle": "2022-08-14T08:36:48.499007Z",
     "shell.execute_reply": "2022-08-14T08:36:48.497805Z"
    },
    "papermill": {
     "duration": 0.020789,
     "end_time": "2022-08-14T08:36:48.500829",
     "exception": false,
     "start_time": "2022-08-14T08:36:48.480040",
     "status": "completed"
    },
    "tags": []
   },
   "outputs": [
    {
     "data": {
      "text/plain": [
       "array(['andaman and nicobar islands', 'andhra pradesh',\n",
       "       'arunachal pradesh', 'assam', 'bihar', 'chandigarh',\n",
       "       'chhattisgarh', 'dadra and nagar haveli', 'daman and diu', 'delhi',\n",
       "       'goa', 'gujarat', 'haryana', 'himachal pradesh',\n",
       "       'jammu and kashmir', 'jharkhand', 'karnataka', 'kerala',\n",
       "       'madhya pradesh', 'maharashtra', 'manipur', 'meghalaya', 'mizoram',\n",
       "       'nagaland', 'odisha', 'puducherry', 'punjab', 'rajasthan',\n",
       "       'sikkim', 'tamil nadu', 'telangana', 'tripura', 'uttar pradesh',\n",
       "       'uttarakhand', 'west bengal'], dtype=object)"
      ]
     },
     "execution_count": 9,
     "metadata": {},
     "output_type": "execute_result"
    }
   ],
   "source": [
    "df['State'] = df['State'].str.strip()\n",
    "df['State'] = df['State'].str.lower()\n",
    "df['State'].unique()"
   ]
  },
  {
   "cell_type": "code",
   "execution_count": 10,
   "id": "e178170c",
   "metadata": {
    "execution": {
     "iopub.execute_input": "2022-08-14T08:36:48.510819Z",
     "iopub.status.busy": "2022-08-14T08:36:48.510486Z",
     "iopub.status.idle": "2022-08-14T08:36:51.762217Z",
     "shell.execute_reply": "2022-08-14T08:36:51.761383Z"
    },
    "papermill": {
     "duration": 3.258902,
     "end_time": "2022-08-14T08:36:51.764310",
     "exception": false,
     "start_time": "2022-08-14T08:36:48.505408",
     "status": "completed"
    },
    "tags": []
   },
   "outputs": [
    {
     "data": {
      "image/png": "[encoded data removed]",
      "text/plain": [
       "<Figure size 1440x1800 with 36 Axes>"
      ]
     },
     "metadata": {
      "needs_background": "light"
     },
     "output_type": "display_data"
    }
   ],
   "source": [
    "figure, axis = plt.subplots(9, 4 , figsize=(20, 25))\n",
    "plt.subplots_adjust(left=None, bottom=None, right=None, top=None, wspace=None, hspace=0.5)\n",
    "row , column = 0 , 0\n",
    "# statewise distribution\n",
    "states = []\n",
    "for i in df['State'].unique():\n",
    "    \n",
    "    state_df = df[df['State'] == i]\n",
    "    grade_val = []\n",
    "    for j in grades:\n",
    "        grade_val.append(state_df[state_df['Grade'] == j]['College Name'].count())\n",
    "    axis[row,column].bar(grades , grade_val)\n",
    "    axis[row,column].set_title(i)\n",
    "    if(column >= 3):\n",
    "        column = 0\n",
    "        row = row + 1\n",
    "    else:\n",
    "        column = column + 1"
   ]
  }
 ],
 "metadata": {
  "kernelspec": {
   "display_name": "Python 3",
   "language": "python",
   "name": "python3"
  },
  "language_info": {
   "codemirror_mode": {
    "name": "ipython",
    "version": 3
   },
   "file_extension": ".py",
   "mimetype": "text/x-python",
   "name": "python",
   "nbconvert_exporter": "python",
   "pygments_lexer": "ipython3",
   "version": "3.7.12"
  },
  "papermill": {
   "default_parameters": {},
   "duration": 11.938091,
   "end_time": "2022-08-14T08:36:52.490447",
   "environment_variables": {},
   "exception": null,
   "input_path": "__notebook__.ipynb",
   "output_path": "__notebook__.ipynb",
   "parameters": {},
   "start_time": "2022-08-14T08:36:40.552356",
   "version": "2.3.4"
  }
 },
 "nbformat": 4,
 "nbformat_minor": 5
}
